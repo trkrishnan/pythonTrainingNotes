{
 "cells": [
  {
   "cell_type": "markdown",
   "metadata": {},
   "source": [
    "#  Python \n",
    "\n",
    "Guido van Rossum published 0.9 in 1991 in Netherlands \n",
    "\n",
    "For preparing the learning material i referred\n",
    "https://www.w3schools.com/python/\n",
    "https://www.programiz.com/python-programming\n",
    "\n",
    "Books :\n",
    "Good book for beginners\n",
    "A Byte of Python\n",
    "https://python.swaroopch.com/\n",
    "\n",
    "Goal kicker Python book - This is a Python Reference book\n",
    "https://books.goalkicker.com/PythonBook/"
   ]
  },
  {
   "cell_type": "code",
   "execution_count": 45,
   "metadata": {},
   "outputs": [
    {
     "data": {
      "text/plain": [
       "12"
      ]
     },
     "execution_count": 45,
     "metadata": {},
     "output_type": "execute_result"
    }
   ],
   "source": [
    "a=3\n",
    "b=4\n",
    "a*b"
   ]
  },
  {
   "cell_type": "code",
   "execution_count": 48,
   "metadata": {},
   "outputs": [
    {
     "name": "stdout",
     "output_type": "stream",
     "text": [
      "linux1\r\n"
     ]
    }
   ],
   "source": []
  },
  {
   "cell_type": "code",
   "execution_count": 2,
   "metadata": {},
   "outputs": [
    {
     "name": "stdout",
     "output_type": "stream",
     "text": [
      "print('hello World')\r\n",
      "print(\"hello World\")\r\n",
      "\r\n"
     ]
    }
   ],
   "source": [
    "!cat helloworld.py"
   ]
  },
  {
   "cell_type": "code",
   "execution_count": 3,
   "metadata": {},
   "outputs": [
    {
     "name": "stdout",
     "output_type": "stream",
     "text": [
      "hello World\r\n",
      "hello World\r\n"
     ]
    }
   ],
   "source": [
    "!python helloworld.py"
   ]
  },
  {
   "cell_type": "code",
   "execution_count": 51,
   "metadata": {},
   "outputs": [
    {
     "name": "stdout",
     "output_type": "stream",
     "text": [
      "Five is greater than two!\n"
     ]
    }
   ],
   "source": [
    "#keep a watch on indentation. Blocks are indented by blank space or tab \n",
    "if 5 > 2:\n",
    "   print(\"Five is greater than two!\")\n"
   ]
  },
  {
   "cell_type": "code",
   "execution_count": 55,
   "metadata": {},
   "outputs": [
    {
     "ename": "IndentationError",
     "evalue": "unexpected indent (<ipython-input-55-ba037e9d2a24>, line 8)",
     "output_type": "error",
     "traceback": [
      "\u001b[0;36m  File \u001b[0;32m\"<ipython-input-55-ba037e9d2a24>\"\u001b[0;36m, line \u001b[0;32m8\u001b[0m\n\u001b[0;31m    print('error')\u001b[0m\n\u001b[0m    ^\u001b[0m\n\u001b[0;31mIndentationError\u001b[0m\u001b[0;31m:\u001b[0m unexpected indent\n"
     ]
    }
   ],
   "source": [
    "# Atlast one blank space should be there to start a separate block of code\n",
    "#\n",
    "#\n",
    "if 5 > 2:\n",
    " print(\"Five is greater than two!\") \n",
    "if 5 > 2:\n",
    "        print(\"Five is greater than two!\") \n",
    "          print('error')"
   ]
  },
  {
   "cell_type": "code",
   "execution_count": 12,
   "metadata": {},
   "outputs": [
    {
     "data": {
      "text/plain": [
       "'\\nThis is also a comment\\nmulti-line\\n'"
      ]
     },
     "execution_count": 12,
     "metadata": {},
     "output_type": "execute_result"
    }
   ],
   "source": [
    "# This is a comment\n",
    "\"\"\"\n",
    "This is also a comment\n",
    "multi-line\n",
    "\"\"\""
   ]
  },
  {
   "cell_type": "markdown",
   "metadata": {},
   "source": [
    "\n",
    "Constants are those values that remain the same throughout the life of the program.\n",
    "Variables are placeholders to store constants or intermittent results.\n",
    "\n",
    "Examples of Constants:  10, 100, \"Hello\"\n",
    "\n",
    "Examples of variables:\n",
    "x = 10\n",
    "x = x + 1\n",
    "\n",
    "\n",
    "y = 20\n",
    "x = None\n",
    "\n",
    "It is better to initialize variable before the first use.\n",
    "Default value of variable \"None\"\n",
    "\n",
    "No need to declare variable. A variable is defined or created when it assigned a value"
   ]
  },
  {
   "cell_type": "code",
   "execution_count": 56,
   "metadata": {},
   "outputs": [
    {
     "name": "stdout",
     "output_type": "stream",
     "text": [
      "number = 10\n",
      "floatNumber = -1.05\n",
      "city =  Chennai\n"
     ]
    }
   ],
   "source": [
    "number = 10\n",
    "floatNumber = -1.05\n",
    "city = \"Chennai\"\n",
    "print(\"number =\" , number)\n",
    "print(\"floatNumber =\" , floatNumber)\n",
    "print(\"city = \", city)\n",
    "\n"
   ]
  },
  {
   "cell_type": "code",
   "execution_count": 57,
   "metadata": {},
   "outputs": [
    {
     "name": "stdout",
     "output_type": "stream",
     "text": [
      "type of number = <class 'int'>\n",
      "type of floatNumber = <class 'float'>\n",
      "type of city =  <class 'str'>\n"
     ]
    }
   ],
   "source": [
    "print(\"type of number =\" , type(number))\n",
    "print(\"type of floatNumber =\" , type(floatNumber))\n",
    "print(\"type of city = \",  type(city))\n"
   ]
  },
  {
   "cell_type": "code",
   "execution_count": 60,
   "metadata": {},
   "outputs": [
    {
     "name": "stdout",
     "output_type": "stream",
     "text": [
      "False\n"
     ]
    }
   ],
   "source": [
    "x=None\n",
    "#print(type(x))\n",
    "\n",
    "print(x is not None)"
   ]
  },
  {
   "cell_type": "code",
   "execution_count": 67,
   "metadata": {},
   "outputs": [
    {
     "name": "stdout",
     "output_type": "stream",
     "text": [
      "3\n",
      "3\n",
      "1.0\n",
      "3\n"
     ]
    }
   ],
   "source": [
    "#Type Casting\n",
    "#Changing from one type to another\n",
    "print(str(3))\n",
    "print(int('1') + 2)\n",
    "print(float('1.0'))\n",
    "#del str\n",
    "\n",
    "print(str(3))"
   ]
  },
  {
   "cell_type": "code",
   "execution_count": 18,
   "metadata": {},
   "outputs": [
    {
     "name": "stdout",
     "output_type": "stream",
     "text": [
      "1\n",
      "2\n"
     ]
    }
   ],
   "source": [
    "#\n",
    "# Variable names are case sensitive\n",
    "var1 = \"1\"\n",
    "Var1 = 2\n",
    "print(var1)\n",
    "print(Var1)"
   ]
  },
  {
   "cell_type": "code",
   "execution_count": 68,
   "metadata": {},
   "outputs": [
    {
     "name": "stdout",
     "output_type": "stream",
     "text": [
      "10\n",
      "20\n",
      "30\n"
     ]
    }
   ],
   "source": [
    "# assigning multiple values\n",
    "\n",
    "v1, v2, v3 = 10, 20, 30\n",
    "print(v1)\n",
    "print(v2)\n",
    "print(v3)"
   ]
  },
  {
   "cell_type": "code",
   "execution_count": 20,
   "metadata": {},
   "outputs": [
    {
     "name": "stdout",
     "output_type": "stream",
     "text": [
      "Orange\n",
      "Orange\n",
      "Orange\n"
     ]
    }
   ],
   "source": [
    "# Same variable assigned to multiple variables\n",
    "x = y = z = \"Orange\"\n",
    "print(x)\n",
    "print(y)\n",
    "print(z)"
   ]
  },
  {
   "cell_type": "code",
   "execution_count": 69,
   "metadata": {},
   "outputs": [
    {
     "name": "stdout",
     "output_type": "stream",
     "text": [
      "apple\n",
      "banana\n",
      "jackfruit\n"
     ]
    }
   ],
   "source": [
    "# extracting each value in a list\n",
    "fruits = [\"apple\", \"banana\", \"jackfruit\"]\n",
    "x, y,z = fruits\n",
    "print(x)\n",
    "print(y)\n",
    "print(z)"
   ]
  },
  {
   "cell_type": "code",
   "execution_count": 193,
   "metadata": {},
   "outputs": [
    {
     "name": "stdout",
     "output_type": "stream",
     "text": [
      "x is  global\n"
     ]
    }
   ],
   "source": [
    "# Use of global variable\n",
    "# \n",
    "# Local variables are available inside a function\n",
    "# Global variables are available anywhere in the file\n",
    "x = \"global\"\n",
    "\n",
    "def myfunc(n1,n2):\n",
    "  print(\"x is  \" + x)\n",
    "\n",
    "myfunc(1,1)"
   ]
  },
  {
   "cell_type": "code",
   "execution_count": 28,
   "metadata": {},
   "outputs": [],
   "source": [
    "# Data types in Python\n",
    "\n",
    "#   Text Type:  str\n",
    "#   Numeric Types:  int, float, complex\n",
    "#   Sequence Types:  list, tuple, range\n",
    "#   Mapping Type:   dict\n",
    "#   Set Types:  set, frozenset\n",
    "#   Boolean Type: bool - True or False\n",
    "#   Binary Types:  bytes, bytearray, memoryview"
   ]
  },
  {
   "cell_type": "code",
   "execution_count": 73,
   "metadata": {},
   "outputs": [
    {
     "name": "stdout",
     "output_type": "stream",
     "text": [
      "200.0\n"
     ]
    }
   ],
   "source": [
    "x = \"Hello World\"   #str \n",
    "x = 10        # int\n",
    "x = 20.5      # float\n",
    "x = -87.7e100 # float exponential form\n",
    "x  = 1j      # complex\n",
    "\n",
    "\n",
    "print(2e2)"
   ]
  },
  {
   "cell_type": "code",
   "execution_count": 29,
   "metadata": {},
   "outputs": [],
   "source": [
    "x = [\"apple\", \"banana\", \"jackfruit\"]  #list\n",
    "x = (\"apple\", \"banana\", \"jackfruit\")  #tuple  , cannot be modified\n",
    "x = range(0,6)  #   list of numbers from 0 to 5\n",
    "x = {\"name\" : \"John\", \n",
    "     \"age\" : 36}    #Dictionary \n",
    "x = {\"apple\", \"banana\", \"jackfruit\"}  # Set \n",
    "x = frozenset({\"apple\", \"banana\", \"jackfruit\"}) #frozenset , cannot be modified\n",
    "x = True     #Boolean\n",
    "x = b\"Hello\"  #bytes\n",
    "x = bytearray(5)  #bytearray\n",
    "x = memoryview(bytes(5)) #memoryview"
   ]
  },
  {
   "cell_type": "code",
   "execution_count": 31,
   "metadata": {},
   "outputs": [
    {
     "name": "stdout",
     "output_type": "stream",
     "text": [
      "False\n"
     ]
    }
   ],
   "source": []
  },
  {
   "cell_type": "code",
   "execution_count": 32,
   "metadata": {},
   "outputs": [
    {
     "name": "stdout",
     "output_type": "stream",
     "text": [
      "Hello\n",
      "Hello\n",
      "Hello\n",
      "Hello, welcome to\n",
      "           the world of Python\n"
     ]
    }
   ],
   "source": [
    "# defining strings in Python\n",
    "# all of the following are equivalent\n",
    "my_string = 'Hello'\n",
    "print(my_string)\n",
    "\n",
    "my_string = \"Hello\"\n",
    "print(my_string)\n",
    "\n",
    "my_string = '''Hello'''\n",
    "print(my_string)\n",
    "\n",
    "# triple quotes string can extend multiple lines\n",
    "my_string = \"\"\"Hello, welcome to\n",
    "           the world of Python\"\"\"\n",
    "print(my_string)"
   ]
  },
  {
   "cell_type": "code",
   "execution_count": 92,
   "metadata": {},
   "outputs": [
    {
     "name": "stdout",
     "output_type": "stream",
     "text": [
      "str1 + str2 =  HelloWorld!\n",
      "str1 * 3 = HelloHelloHello\n",
      "Hel\n"
     ]
    }
   ],
   "source": [
    "# Python String Operations\n",
    "str1 = 'Hello'\n",
    "str2 ='World!'\n",
    "\n",
    "# using +\n",
    "print('str1 + str2 = ', str1 + str2)\n",
    "\n",
    "# using *\n",
    "print('str1 * 3 =', str1 * 3)\n",
    "\n",
    "print(str1[0:3])"
   ]
  },
  {
   "cell_type": "code",
   "execution_count": 96,
   "metadata": {},
   "outputs": [
    {
     "name": "stdout",
     "output_type": "stream",
     "text": [
      "lo\n"
     ]
    }
   ],
   "source": [
    "print('hello'[-2:]) # negative index"
   ]
  },
  {
   "cell_type": "code",
   "execution_count": 100,
   "metadata": {},
   "outputs": [
    {
     "data": {
      "text/plain": [
       "[13, 14, 15]"
      ]
     },
     "execution_count": 100,
     "metadata": {},
     "output_type": "execute_result"
    }
   ],
   "source": [
    "# Iterating through a string\n",
    "count = 0\n",
    "for letter in 'Hello World':\n",
    "    if(letter == 'l'):\n",
    "        count += 1\n",
    "#print(count,'letters found')\n",
    "\n",
    "\n",
    "a=[11,12,13,14,15]\n",
    "for i in a:\n",
    "    pass\n",
    "    #print(i)\n",
    "a[-3:]"
   ]
  },
  {
   "cell_type": "code",
   "execution_count": 103,
   "metadata": {},
   "outputs": [
    {
     "name": "stdout",
     "output_type": "stream",
     "text": [
      "list(enumerate(str) =  [(0, 'c'), (1, 'o'), (2, 'l'), (3, 'd')]\n",
      "len(str) =  4\n",
      "d\n"
     ]
    }
   ],
   "source": [
    "token = 'cold'\n",
    "\n",
    "# enumerate()\n",
    "list_enumerate = list(enumerate(token))\n",
    "print('list(enumerate(str) = ', list_enumerate)\n",
    "\n",
    "#character count\n",
    "print('len(str) = ', len(token))\n",
    "print(token[3])"
   ]
  },
  {
   "cell_type": "code",
   "execution_count": 36,
   "metadata": {},
   "outputs": [
    {
     "name": "stdout",
     "output_type": "stream",
     "text": [
      "\n",
      "--- Default Order ---\n",
      "John, Bill and Sean\n",
      "\n",
      "--- Positional Order ---\n",
      "Bill, John and Sean\n",
      "\n",
      "--- Keyword Order ---\n",
      "Sean, Bill and John\n"
     ]
    }
   ],
   "source": [
    "# Python string format() method\n",
    "\n",
    "# default(implicit) order\n",
    "default_order = \"{}, {} and {}\".format('John','Bill','Sean')\n",
    "print('\\n--- Default Order ---')\n",
    "print(default_order)\n",
    "\n",
    "# order using positional argument\n",
    "positional_order = \"{1}, {0} and {2}\".format('John','Bill','Sean')\n",
    "print('\\n--- Positional Order ---')\n",
    "print(positional_order)\n",
    "\n",
    "# order using keyword argument\n",
    "keyword_order = \"{s}, {b} and {j}\".format(j='John',b='Bill',s='Sean')\n",
    "print('\\n--- Keyword Order ---')\n",
    "print(keyword_order)"
   ]
  },
  {
   "cell_type": "code",
   "execution_count": 37,
   "metadata": {},
   "outputs": [
    {
     "data": {
      "text/plain": [
       "'Brilliant New Year'"
      ]
     },
     "execution_count": 37,
     "metadata": {},
     "output_type": "execute_result"
    }
   ],
   "source": [
    ">>> \"PrOgRaMiZ\".lower()\n",
    "'programiz'\n",
    ">>> \"PrOgRaMiZ\".upper()\n",
    "'PROGRAMIZ'\n",
    ">>> \"This will split all words into a list\".split()\n",
    "['This', 'will', 'split', 'all', 'words', 'into', 'a', 'list']\n",
    ">>> ' '.join(['This', 'will', 'join', 'all', 'words', 'into', 'a', 'string'])\n",
    "'This will join all words into a string'\n",
    ">>> 'Happy New Year'.find('ew')\n",
    "7\n",
    ">>> 'Happy New Year'.replace('Happy','Brilliant')\n",
    "'Brilliant New Year'"
   ]
  },
  {
   "cell_type": "code",
   "execution_count": 79,
   "metadata": {},
   "outputs": [
    {
     "name": "stdout",
     "output_type": "stream",
     "text": [
      "[0, 5, 10, 15, 20, 25, 30, 35, 40, 45, 50, 55, 60, 65, 70, 75, 80, 85, 90, 95, 100]\n",
      "1050\n"
     ]
    }
   ],
   "source": [
    "# For loop example\n",
    "'''var = range(0,6)\n",
    "print(list(var))\n",
    "for i in range(0,6):\n",
    "    print(i)\n",
    "'''    \n",
    "# Suppose we want to sum the multiples of 5 from 1 to 100 both inclusive\n",
    "\n",
    "total=0 \n",
    "values = range(0,105, 5)\n",
    "print(list(values))\n",
    "\n",
    "for i in values:\n",
    "    total=total + i\n",
    "print(total)\n"
   ]
  },
  {
   "cell_type": "code",
   "execution_count": 39,
   "metadata": {},
   "outputs": [
    {
     "name": "stdout",
     "output_type": "stream",
     "text": [
      "2\n",
      "2\n",
      "2\n"
     ]
    }
   ],
   "source": [
    "#for loop example 2\n",
    "for i in range(0,6,2):\n",
    "    print(2)"
   ]
  },
  {
   "cell_type": "code",
   "execution_count": 83,
   "metadata": {},
   "outputs": [
    {
     "name": "stdout",
     "output_type": "stream",
     "text": [
      "0\n",
      "5\n",
      "10\n",
      "15\n",
      "20\n",
      "25\n",
      "30\n",
      "35\n",
      "40\n",
      "45\n",
      "50\n",
      "55\n",
      "60\n",
      "65\n",
      "70\n",
      "75\n",
      "80\n",
      "85\n",
      "90\n",
      "95\n",
      "100\n",
      "total=  1050\n"
     ]
    }
   ],
   "source": [
    "# While loop\n",
    "number=0\n",
    "total=0\n",
    "while number <105:\n",
    "    print(number)\n",
    "    total = total + number\n",
    "    number+=5\n",
    "print('total= ',total)    "
   ]
  },
  {
   "cell_type": "code",
   "execution_count": 84,
   "metadata": {},
   "outputs": [
    {
     "data": {
      "text/plain": [
       "1050"
      ]
     },
     "execution_count": 84,
     "metadata": {},
     "output_type": "execute_result"
    }
   ],
   "source": [
    "var1=range(0,105,5)\n",
    "sum(var1)"
   ]
  },
  {
   "cell_type": "code",
   "execution_count": 86,
   "metadata": {},
   "outputs": [
    {
     "name": "stdout",
     "output_type": "stream",
     "text": [
      "Help on class range in module builtins:\n",
      "\n",
      "class range(object)\n",
      " |  range(stop) -> range object\n",
      " |  range(start, stop[, step]) -> range object\n",
      " |  \n",
      " |  Return an object that produces a sequence of integers from start (inclusive)\n",
      " |  to stop (exclusive) by step.  range(i, j) produces i, i+1, i+2, ..., j-1.\n",
      " |  start defaults to 0, and stop is omitted!  range(4) produces 0, 1, 2, 3.\n",
      " |  These are exactly the valid indices for a list of 4 elements.\n",
      " |  When step is given, it specifies the increment (or decrement).\n",
      " |  \n",
      " |  Methods defined here:\n",
      " |  \n",
      " |  __bool__(self, /)\n",
      " |      self != 0\n",
      " |  \n",
      " |  __contains__(self, key, /)\n",
      " |      Return key in self.\n",
      " |  \n",
      " |  __eq__(self, value, /)\n",
      " |      Return self==value.\n",
      " |  \n",
      " |  __ge__(self, value, /)\n",
      " |      Return self>=value.\n",
      " |  \n",
      " |  __getattribute__(self, name, /)\n",
      " |      Return getattr(self, name).\n",
      " |  \n",
      " |  __getitem__(self, key, /)\n",
      " |      Return self[key].\n",
      " |  \n",
      " |  __gt__(self, value, /)\n",
      " |      Return self>value.\n",
      " |  \n",
      " |  __hash__(self, /)\n",
      " |      Return hash(self).\n",
      " |  \n",
      " |  __iter__(self, /)\n",
      " |      Implement iter(self).\n",
      " |  \n",
      " |  __le__(self, value, /)\n",
      " |      Return self<=value.\n",
      " |  \n",
      " |  __len__(self, /)\n",
      " |      Return len(self).\n",
      " |  \n",
      " |  __lt__(self, value, /)\n",
      " |      Return self<value.\n",
      " |  \n",
      " |  __ne__(self, value, /)\n",
      " |      Return self!=value.\n",
      " |  \n",
      " |  __reduce__(...)\n",
      " |      Helper for pickle.\n",
      " |  \n",
      " |  __repr__(self, /)\n",
      " |      Return repr(self).\n",
      " |  \n",
      " |  __reversed__(...)\n",
      " |      Return a reverse iterator.\n",
      " |  \n",
      " |  count(...)\n",
      " |      rangeobject.count(value) -> integer -- return number of occurrences of value\n",
      " |  \n",
      " |  index(...)\n",
      " |      rangeobject.index(value, [start, [stop]]) -> integer -- return index of value.\n",
      " |      Raise ValueError if the value is not present.\n",
      " |  \n",
      " |  ----------------------------------------------------------------------\n",
      " |  Static methods defined here:\n",
      " |  \n",
      " |  __new__(*args, **kwargs) from builtins.type\n",
      " |      Create and return a new object.  See help(type) for accurate signature.\n",
      " |  \n",
      " |  ----------------------------------------------------------------------\n",
      " |  Data descriptors defined here:\n",
      " |  \n",
      " |  start\n",
      " |  \n",
      " |  step\n",
      " |  \n",
      " |  stop\n",
      "\n"
     ]
    }
   ],
   "source": [
    "help(range)"
   ]
  },
  {
   "cell_type": "code",
   "execution_count": 91,
   "metadata": {},
   "outputs": [
    {
     "name": "stdout",
     "output_type": "stream",
     "text": [
      "a is greater\n"
     ]
    }
   ],
   "source": [
    "a = 10\n",
    "b = 7\n",
    "c = 5\n",
    "\n",
    "if (a > b ):\n",
    "    if (a > c):\n",
    "        print('a is greater')\n",
    "        print('hai')\n",
    "        \n",
    "    else:\n",
    "        pass  #dummy line\n",
    "        #print('c is greater')\n",
    "elif (b > c):\n",
    "    print('b is greater')\n",
    "else:\n",
    "    print('c is greater')"
   ]
  },
  {
   "cell_type": "code",
   "execution_count": 116,
   "metadata": {},
   "outputs": [
    {
     "data": {
      "text/plain": [
       "13"
      ]
     },
     "execution_count": 116,
     "metadata": {},
     "output_type": "execute_result"
    }
   ],
   "source": [
    "import math\n",
    "math.ceil(12.1)"
   ]
  },
  {
   "cell_type": "code",
   "execution_count": 123,
   "metadata": {},
   "outputs": [
    {
     "name": "stdout",
     "output_type": "stream",
     "text": [
      "[1, 3, 5]\n",
      "[5, 4, 3, 2, 1]\n",
      "[4, 5]\n"
     ]
    }
   ],
   "source": [
    "list1 = [1 ,2 , 3, 4,5 ]\n",
    "print(list1[0:5:2])# start , stop, step\n",
    "print(list1[::-1])# reverse \n",
    "print(list1[-2:])"
   ]
  },
  {
   "cell_type": "code",
   "execution_count": 140,
   "metadata": {},
   "outputs": [
    {
     "name": "stdout",
     "output_type": "stream",
     "text": [
      "[0, 10, 20, 30, 40, 50, 60, 70, 80, 90, 100]\n"
     ]
    }
   ],
   "source": [
    "list1 = list(range(0,101))\n",
    "ans = [x for x in list1 if (x %10) == 0]\n",
    "print(ans)"
   ]
  },
  {
   "cell_type": "code",
   "execution_count": 149,
   "metadata": {},
   "outputs": [
    {
     "name": "stdout",
     "output_type": "stream",
     "text": [
      "[1, 2, 3, 4, 5, 6]\n",
      "[1, 2, 3, 4]\n"
     ]
    }
   ],
   "source": [
    "a = [1,2]\n",
    "b = [3,4]\n",
    "#a.append(b)\n",
    "#print(a)\n",
    "\n",
    "r=[1,2,3,4,5]\n",
    "r.append(6)\n",
    "print(r)\n",
    "print(a+b)\n"
   ]
  },
  {
   "cell_type": "code",
   "execution_count": 161,
   "metadata": {},
   "outputs": [
    {
     "name": "stdout",
     "output_type": "stream",
     "text": [
      "1\n",
      "2\n"
     ]
    }
   ],
   "source": [
    "s1=set({1,2,3,4,5})\n",
    "s1={1,2,3,4,5}\n",
    "s2 = {4,5,6}\n",
    "s1.intersection(s2)\n",
    "\n",
    "a=(1,2)\n",
    "#print(a[0])\n",
    "#print(a[1])\n",
    "first,second = a\n",
    "print(first)\n",
    "print(second)"
   ]
  },
  {
   "cell_type": "code",
   "execution_count": 164,
   "metadata": {},
   "outputs": [
    {
     "name": "stdout",
     "output_type": "stream",
     "text": [
      "dict_values(['v1', 2, None])\n"
     ]
    }
   ],
   "source": [
    "sMap={\"k1\" : \"v1\" ,\n",
    "    \"k2\" : 2,\n",
    "    3:  None}\n",
    "print(sMap.values())\n"
   ]
  },
  {
   "cell_type": "code",
   "execution_count": 166,
   "metadata": {},
   "outputs": [
    {
     "name": "stdout",
     "output_type": "stream",
     "text": [
      "k1  has value  v1\n",
      "k2  has value  2\n",
      "3  has value  None\n"
     ]
    }
   ],
   "source": [
    "for key,value in sMap.items():\n",
    "    print(key, \" has value \" , value)"
   ]
  },
  {
   "cell_type": "code",
   "execution_count": null,
   "metadata": {},
   "outputs": [],
   "source": []
  },
  {
   "cell_type": "code",
   "execution_count": 167,
   "metadata": {},
   "outputs": [
    {
     "data": {
      "text/plain": [
       "dict_items([('k1', 'v1'), ('k2', 2), (3, None)])"
      ]
     },
     "execution_count": 167,
     "metadata": {},
     "output_type": "execute_result"
    }
   ],
   "source": [
    "sMap.items()"
   ]
  },
  {
   "cell_type": "code",
   "execution_count": 168,
   "metadata": {},
   "outputs": [],
   "source": [
    "sMap['k3'] = 100"
   ]
  },
  {
   "cell_type": "code",
   "execution_count": 169,
   "metadata": {},
   "outputs": [
    {
     "data": {
      "text/plain": [
       "100"
      ]
     },
     "execution_count": 169,
     "metadata": {},
     "output_type": "execute_result"
    }
   ],
   "source": [
    "sMap['k3']"
   ]
  },
  {
   "cell_type": "code",
   "execution_count": 171,
   "metadata": {},
   "outputs": [
    {
     "data": {
      "text/plain": [
       "False"
      ]
     },
     "execution_count": 171,
     "metadata": {},
     "output_type": "execute_result"
    }
   ],
   "source": [
    "'k1000000' in sMap"
   ]
  },
  {
   "cell_type": "code",
   "execution_count": 179,
   "metadata": {},
   "outputs": [],
   "source": []
  },
  {
   "cell_type": "code",
   "execution_count": 182,
   "metadata": {},
   "outputs": [
    {
     "name": "stdout",
     "output_type": "stream",
     "text": [
      "['This is a sample file for word count\\n', '\\n', 'word is repeated 2 times\\n', '\\n', 'Hello World\\n']\n"
     ]
    }
   ],
   "source": [
    "fh = open(\"/home/krishna/pythontraining/file1.txt\",\"r\")\n",
    "list1=fh.readlines()\n",
    "print(list1)\n",
    "fh.close()"
   ]
  },
  {
   "cell_type": "code",
   "execution_count": 187,
   "metadata": {},
   "outputs": [
    {
     "name": "stdout",
     "output_type": "stream",
     "text": [
      "{'This': 1, 'is': 2, 'a': 1, 'sample': 1, 'file': 1, 'for': 1, 'word': 2, 'count': 1, 'repeated': 1, '2': 1, 'times': 1, 'Hello': 1, 'World': 1}\n"
     ]
    }
   ],
   "source": [
    "wordMap={}\n",
    "\n",
    "for eachLine in list1:\n",
    "    words = eachLine.split()\n",
    "    \n",
    "    for eachWord in words:\n",
    "        #print(eachWord)\n",
    "        if eachWord in wordMap:\n",
    "            wordMap[eachWord] = wordMap[eachWord] + 1\n",
    "        else:\n",
    "            wordMap[eachWord] = 1\n",
    "\n",
    "print(wordMap)\n",
    "    "
   ]
  },
  {
   "cell_type": "code",
   "execution_count": 188,
   "metadata": {},
   "outputs": [
    {
     "data": {
      "text/plain": [
       "{'__name__': '__main__',\n",
       " '__doc__': 'var = range(0,6)\\nprint(list(var))\\nfor i in range(0,6):\\n    print(i)\\n',\n",
       " '__package__': None,\n",
       " '__loader__': None,\n",
       " '__spec__': None,\n",
       " '__builtin__': <module 'builtins' (built-in)>,\n",
       " '__builtins__': <module 'builtins' (built-in)>,\n",
       " '_ih': ['',\n",
       "  \"get_ipython().system('python --version')\",\n",
       "  \"get_ipython().system('cat helloworld.py')\",\n",
       "  \"get_ipython().system('python helloworld.py')\",\n",
       "  \"get_ipython().system('python')\\nprint('hello World')\",\n",
       "  \"get_ipython().system('python')\",\n",
       "  \"get_ipython().system('python')\",\n",
       "  '#keep a watch on space \\n\\nif 5 > 2:\\n  print(\"Five is greater than two!\")',\n",
       "  '#keep a watch on space \\nif 5 > 2:\\n   print(\"Five is greater than two!\")',\n",
       "  '#keep a watch on indentation. Blocks are indented by blank space or tab \\nif 5 > 2:\\n   print(\"Five is greater than two!\")',\n",
       "  'if 5 > 2:\\n print(\"Five is greater than two!\") \\nif 5 > 2:\\n        print(\"Five is greater than two!\") ',\n",
       "  \"# This is a comment\\n'''\\nThis is also a comment\\nmulti-line\\n'''\",\n",
       "  '# This is a comment\\n\"\"\"\\nThis is also a comment\\nmulti-line\\n\"\"\"',\n",
       "  'number = 10\\nfloatNumber = -1.05\\ncity = \"Chennai\"\\nprint(\"number =\" , number)\\nprint(\"floatNumber =\" , floatNumber)\\nprint(\"city = \", city)\\n\\nprint(\"type of number =\" , type(number))\\nprint(\"type of floatNumber =\" , type(floatNumber))\\nprint(\"type of city = \",  type(city))',\n",
       "  'print(\"type of number =\" , type(number))\\nprint(\"type of floatNumber =\" , type(floatNumber))\\nprint(\"type of city = \",  type(city))',\n",
       "  'x=None',\n",
       "  'x=None\\nprint(type(x))',\n",
       "  \"print(str(3) + '1')\\nprint(int('1') + 2)\",\n",
       "  'var1 = \"1\"\\nVar1 = 2\\nprint(var1)\\nprint(Var1)',\n",
       "  '# assigning multiple values\\n\\nv1, v2, v3 = 10, 20, 30\\nprint(v1)\\nprint(v2)\\nprint(v3)',\n",
       "  'x = y = z = \"Orange\"\\nprint(x)\\nprint(y)\\nprint(z)',\n",
       "  'fruits = [\"apple\", \"banana\", \"cherry\"]\\nx, y, z = fruits\\nprint(x)\\nprint(y)\\nprint(z)',\n",
       "  'fruits = [\"apple\", \"banana\", \"cherry\"]\\nx, y = fruits\\nprint(x)\\nprint(y)\\nprint(z)',\n",
       "  'fruits = [\"apple\", \"banana\", \"cherry\"]\\nx, y,z = fruits\\nprint(x)\\nprint(y)\\nprint(z)',\n",
       "  'fruits = [\"apple\", \"banana\", \"jackfruit\"]\\nx, y,z = fruits\\nprint(x)\\nprint(y)\\nprint(z)',\n",
       "  '# extracting each value in a list\\nfruits = [\"apple\", \"banana\", \"jackfruit\"]\\nx, y,z = fruits\\nprint(x)\\nprint(y)\\nprint(z)',\n",
       "  'x = \"global\"\\n\\ndef myfunc():\\n  print(\"x is  \" + x)\\n\\nmyfunc()',\n",
       "  '# Use of global variable\\n# \\n# Local variables are available inside a function\\n# Global variables are available anywhere in the file\\nx = \"global\"\\n\\ndef myfunc():\\n  print(\"x is  \" + x)\\n\\nmyfunc()',\n",
       "  '# Data types in Python\\n\\n#   Text Type:  str\\n#   Numeric Types:  int, float, complex\\n#   Sequence Types:  list, tuple, range\\n#   Mapping Type:   dict\\n#   Set Types:  set, frozenset\\n#   Boolean Type: bool\\n#   Binary Types:  bytes, bytearray, memoryview',\n",
       "  'x = [\"apple\", \"banana\", \"jackfruit\"]  #list\\nx = (\"apple\", \"banana\", \"jackfruit\")  #tuple  , cannot be modified\\nx = range(0,6)  #   list of numbers from 0 to 5\\nx = {\"name\" : \"John\", \"age\" : 36}    #Dictionary \\nx = {\"apple\", \"banana\", \"jackfruit\"}  # Set \\nx = frozenset({\"apple\", \"banana\", \"jackfruit\"}) #frozenset , cannot be modified\\nx = True     #Boolean\\nx = b\"Hello\"  #bytes\\nx = bytearray(5)  #bytearray\\nx = memoryview(bytes(5)) #memoryview',\n",
       "  'l1 = [1,2]\\nl2 = [2,3,4]\\nprint(l1 in l2)',\n",
       "  'l1 = [2,3]\\nl2 = [2,3,4]\\nprint(l1 in l2)',\n",
       "  '# defining strings in Python\\n# all of the following are equivalent\\nmy_string = \\'Hello\\'\\nprint(my_string)\\n\\nmy_string = \"Hello\"\\nprint(my_string)\\n\\nmy_string = \\'\\'\\'Hello\\'\\'\\'\\nprint(my_string)\\n\\n# triple quotes string can extend multiple lines\\nmy_string = \"\"\"Hello, welcome to\\n           the world of Python\"\"\"\\nprint(my_string)',\n",
       "  \"# Python String Operations\\nstr1 = 'Hello'\\nstr2 ='World!'\\n\\n# using +\\nprint('str1 + str2 = ', str1 + str2)\\n\\n# using *\\nprint('str1 * 3 =', str1 * 3)\",\n",
       "  \"# Iterating through a string\\ncount = 0\\nfor letter in 'Hello World':\\n    if(letter == 'l'):\\n        count += 1\\nprint(count,'letters found')\",\n",
       "  \"str = 'cold'\\n\\n# enumerate()\\nlist_enumerate = list(enumerate(str))\\nprint('list(enumerate(str) = ', list_enumerate)\\n\\n#character count\\nprint('len(str) = ', len(str))\",\n",
       "  '# Python string format() method\\n\\n# default(implicit) order\\ndefault_order = \"{}, {} and {}\".format(\\'John\\',\\'Bill\\',\\'Sean\\')\\nprint(\\'\\\\n--- Default Order ---\\')\\nprint(default_order)\\n\\n# order using positional argument\\npositional_order = \"{1}, {0} and {2}\".format(\\'John\\',\\'Bill\\',\\'Sean\\')\\nprint(\\'\\\\n--- Positional Order ---\\')\\nprint(positional_order)\\n\\n# order using keyword argument\\nkeyword_order = \"{s}, {b} and {j}\".format(j=\\'John\\',b=\\'Bill\\',s=\\'Sean\\')\\nprint(\\'\\\\n--- Keyword Order ---\\')\\nprint(keyword_order)',\n",
       "  '\"PrOgRaMiZ\".lower()\\n\\'programiz\\'\\n\"PrOgRaMiZ\".upper()\\n\\'PROGRAMIZ\\'\\n\"This will split all words into a list\".split()\\n[\\'This\\', \\'will\\', \\'split\\', \\'all\\', \\'words\\', \\'into\\', \\'a\\', \\'list\\']\\n\\' \\'.join([\\'This\\', \\'will\\', \\'join\\', \\'all\\', \\'words\\', \\'into\\', \\'a\\', \\'string\\'])\\n\\'This will join all words into a string\\'\\n\\'Happy New Year\\'.find(\\'ew\\')\\n7\\n\\'Happy New Year\\'.replace(\\'Happy\\',\\'Brilliant\\')\\n\\'Brilliant New Year\\'',\n",
       "  '# For loop example\\n\\nfor i in range(0,6):\\n    print(i)',\n",
       "  '#for loop example 2\\nfor i in range(0,6,2):\\n    print(2)',\n",
       "  'i=0\\n\\nwhile i<5:\\n    print(i)\\n    i++',\n",
       "  'i=0\\n\\nwhile i<5:\\n    print(i)\\n    i+=1',\n",
       "  \"print('hello world')\",\n",
       "  'a=3\\nb=4\\na*b',\n",
       "  'a=3\\nb=4\\nprint(a*b)',\n",
       "  'a=3\\nb=4\\na*b',\n",
       "  \"get_ipython().system('python --version')\",\n",
       "  \"get_ipython().system('python --version')\",\n",
       "  \"get_ipython().system('hostname')\",\n",
       "  '# Atlast one blank space should be there to start a separate block of code\\n#\\n#\\nif 5 > 2:\\n print(\"Five is greater than two!\") \\nif 5 > 2:\\n        print(\"Five is greater than two!\") ',\n",
       "  '#keep a watch on indentation. Blocks are indented by blank space or tab \\nif 5 > 2:\\n   print(\"Five is greater than two!\")',\n",
       "  '#keep a watch on indentation. Blocks are indented by blank space or tab \\nif 5 > 2:\\n   print(\"Five is greater than two!\")',\n",
       "  '# Atlast one blank space should be there to start a separate block of code\\n#\\n#\\nif 5 > 2:\\n print(\"Five is greater than two!\") \\nif 5 > 2:\\n        print(\"Five is greater than two!\") ',\n",
       "  '# Atlast one blank space should be there to start a separate block of code\\n#\\n#\\nif 5 > 2:\\n print(\"Five is greater than two!\") \\nif 5 > 2:\\n        print(\"Five is greater than two!\") \\n           print(\\'error\\')',\n",
       "  '# Atlast one blank space should be there to start a separate block of code\\n#\\n#\\nif 5 > 2:\\n print(\"Five is greater than two!\") \\nif 5 > 2:\\n        print(\"Five is greater than two!\") \\n        print(\\'error\\')',\n",
       "  '# Atlast one blank space should be there to start a separate block of code\\n#\\n#\\nif 5 > 2:\\n print(\"Five is greater than two!\") \\nif 5 > 2:\\n        print(\"Five is greater than two!\") \\n          print(\\'error\\')',\n",
       "  'number = 10\\nfloatNumber = -1.05\\ncity = \"Chennai\"\\nprint(\"number =\" , number)\\nprint(\"floatNumber =\" , floatNumber)\\nprint(\"city = \", city)',\n",
       "  'print(\"type of number =\" , type(number))\\nprint(\"type of floatNumber =\" , type(floatNumber))\\nprint(\"type of city = \",  type(city))',\n",
       "  'x=None\\nprint(type(x))\\n\\nprint(x is None)',\n",
       "  'x=None\\n#print(type(x))\\n\\nprint(x is None)',\n",
       "  'x=None\\n#print(type(x))\\n\\nprint(x is not None)',\n",
       "  \"#Type Casting\\nChanging from one type to another\\nprint(str(3) + '1')\\nprint(int('1') + 2)\\nprint(float('1.0'))\",\n",
       "  \"#Type Casting\\n#Changing from one type to another\\nprint(str(3) + '1')\\nprint(int('1') + 2)\\nprint(float('1.0'))\",\n",
       "  \"#Type Casting\\n#Changing from one type to another\\nprint(str(3))\\nprint(int('1') + 2)\\nprint(float('1.0'))\",\n",
       "  \"#Type Casting\\n#Changing from one type to another\\n#print(str(3))\\n#print(int('1') + 2)\\n#print(float('1.0'))\\nprint(str)\",\n",
       "  \"#Type Casting\\n#Changing from one type to another\\n#print(str(3))\\n#print(int('1') + 2)\\n#print(float('1.0'))\\ndel str\",\n",
       "  \"#Type Casting\\n#Changing from one type to another\\n#print(str(3))\\n#print(int('1') + 2)\\n#print(float('1.0'))\\n#del str\\n\\nprint(str(3))\",\n",
       "  \"#Type Casting\\n#Changing from one type to another\\nprint(str(3))\\nprint(int('1') + 2)\\nprint(float('1.0'))\\n#del str\\n\\nprint(str(3))\",\n",
       "  '# assigning multiple values\\n\\nv1, v2, v3 = 10, 20, 30\\nprint(v1)\\nprint(v2)\\nprint(v3)',\n",
       "  '# extracting each value in a list\\nfruits = [\"apple\", \"banana\", \"jackfruit\"]\\nx, y,z = fruits\\nprint(x)\\nprint(y)\\nprint(z)',\n",
       "  '# Use of global variable\\n# \\n# Local variables are available inside a function\\n# Global variables are available anywhere in the file\\nx = \"global\"\\n\\ndef myfunc(n1,n2):\\n  print(\"x is  \" + x)\\n\\nmyfunc(1,1)',\n",
       "  '# Use of global variable\\n# \\n# Local variables are available inside a function\\n# Global variables are available anywhere in the file\\n#x = \"global\"\\n\\ndef myfunc(n1,n2):\\n  print(\"x is  \" + x)\\n\\nmyfunc(1,1)',\n",
       "  '# Use of global variable\\n# \\n# Local variables are available inside a function\\n# Global variables are available anywhere in the file\\n#x = \"global\"\\n\\ndef myfunc(n1,n2):\\n  print(\"x is  \" + x1233)\\n\\nmyfunc(1,1)',\n",
       "  'x = \"Hello World\"   #str \\nx = 10        # int\\nx = 20.5      # float\\nx = -87.7e100 # float exponential form\\nx  = 1j      # complex\\n\\n\\nprint(2e2)',\n",
       "  '# For loop example\\n\\nfor i in range(0,6):\\n    print(i)',\n",
       "  '# For loop example\\n\\nvar = range(0,6)\\nprint(var)\\nfor i in range(0,6):\\n    print(i)',\n",
       "  '# For loop example\\n\\nvar = range(0,6)\\nprint(list(var))\\nfor i in range(0,6):\\n    print(i)',\n",
       "  \"# For loop example\\n'''var = range(0,6)\\nprint(list(var))\\nfor i in range(0,6):\\n    print(i)\\n'''    \\n# Suppose we want to sum the multiples of 5 from 1 to 100 both inclusive\\n\\ntotal=0 \\nvalues = range(0,105, 5)\\nprint(values)\",\n",
       "  \"# For loop example\\n'''var = range(0,6)\\nprint(list(var))\\nfor i in range(0,6):\\n    print(i)\\n'''    \\n# Suppose we want to sum the multiples of 5 from 1 to 100 both inclusive\\n\\ntotal=0 \\nvalues = range(0,105, 5)\\nprint(list(values))\",\n",
       "  \"# For loop example\\n'''var = range(0,6)\\nprint(list(var))\\nfor i in range(0,6):\\n    print(i)\\n'''    \\n# Suppose we want to sum the multiples of 5 from 1 to 100 both inclusive\\n\\ntotal=0 \\nvalues = range(0,105, 5)\\nprint(list(values))\\n\\nfor i in values:\\n    total=total + i\\nprint(total)\",\n",
       "  '# While loop\\nnumber=0\\n\\nwhile number <105:\\n    print(number)\\n    total = total + number\\n    number+=5\\nprint(total)    ',\n",
       "  \"# While loop\\nnumber=0\\n\\nwhile number <105:\\n    print(number)\\n    total = total + number\\n    number+=5\\nprint('total= ',total)    \",\n",
       "  'var1=range(0,105,5)\\nsum(var1)',\n",
       "  \"# While loop\\nnumber=0\\ntotal=0\\nwhile number <105:\\n    print(number)\\n    total = total + number\\n    number+=5\\nprint('total= ',total)    \",\n",
       "  'var1=range(0,105,5)\\nsum(var1)',\n",
       "  'help(sum)',\n",
       "  'help(range)',\n",
       "  \"a = 3\\nb = 2\\n\\nif (a > b ):\\n    print('a is greater')\",\n",
       "  \"a = 3\\nb = 2\\n\\nif (a > b ):\\n    print('a is greater')\\nelse:\\n    print('b is greater')\",\n",
       "  \"a = 3\\nb = 2\\nc = 5\\n\\nif (a > b ):\\n    if (a > c):\\n        print('a is greater')\\n    else:\\n        print('c is greater')\\nelif (b > c):\\n    print('b is greater')\\nelse:\\n    print('c is greater')\",\n",
       "  \"a = 3\\nb = 7\\nc = 5\\n\\nif (a > b ):\\n    if (a > c):\\n        print('a is greater')\\n    else:\\n        print('c is greater')\\nelif (b > c):\\n    print('b is greater')\\nelse:\\n    print('c is greater')\",\n",
       "  \"a = 10\\nb = 7\\nc = 5\\n\\nif (a > b ):\\n    if (a > c):\\n        print('a is greater')\\n    else:\\n        print('c is greater')\\nelif (b > c):\\n    print('b is greater')\\nelse:\\n    print('c is greater')\",\n",
       "  \"# Python String Operations\\nstr1 = 'Hello'\\nstr2 ='World!'\\n\\n# using +\\nprint('str1 + str2 = ', str1 + str2)\\n\\n# using *\\nprint('str1 * 3 =', str1 * 3)\\n\\nprint(str1[0:3])\",\n",
       "  \"print('hello' + 'world')\",\n",
       "  \"print('hello' * 3)\",\n",
       "  \"print('hello'[0:2])\",\n",
       "  \"print('hello'[-2:])\",\n",
       "  \"# Iterating through a string\\ncount = 0\\nfor letter in 'Hello World':\\n    if(letter == 'l'):\\n        count += 1\\nprint(count,'letters found')\\n\\n\\na=[11,12,13,14,15]\\nfor i in a:\\n    print(i)\",\n",
       "  \"# Iterating through a string\\ncount = 0\\nfor letter in 'Hello World':\\n    if(letter == 'l'):\\n        count += 1\\n#print(count,'letters found')\\n\\n\\na=[11,12,13,14,15]\\nfor i in a:\\n    print(i)\",\n",
       "  \"# Iterating through a string\\ncount = 0\\nfor letter in 'Hello World':\\n    if(letter == 'l'):\\n        count += 1\\n#print(count,'letters found')\\n\\n\\na=[11,12,13,14,15]\\nfor i in a:\\n    pass\\n    #print(i)\\na[0:3]\",\n",
       "  \"# Iterating through a string\\ncount = 0\\nfor letter in 'Hello World':\\n    if(letter == 'l'):\\n        count += 1\\n#print(count,'letters found')\\n\\n\\na=[11,12,13,14,15]\\nfor i in a:\\n    pass\\n    #print(i)\\na[-3:]\",\n",
       "  \"token = 'cold'\\n\\n# enumerate()\\nlist_enumerate = list(enumerate(token))\\nprint('list(enumerate(str) = ', list_enumerate)\\n\\n#character count\\nprint('len(str) = ', len(str))\",\n",
       "  \"token = 'cold'\\n\\n# enumerate()\\nlist_enumerate = list(enumerate(token))\\nprint('list(enumerate(str) = ', list_enumerate)\\n\\n#character count\\nprint('len(str) = ', len(token))\",\n",
       "  \"token = 'cold'\\n\\n# enumerate()\\nlist_enumerate = list(enumerate(token))\\nprint('list(enumerate(str) = ', list_enumerate)\\n\\n#character count\\nprint('len(str) = ', len(token))\\nprint(token[3])\",\n",
       "  '2 / 3',\n",
       "  '4 / 3',\n",
       "  '4 // 3',\n",
       "  '10 %  3',\n",
       "  '11 %  3',\n",
       "  '12 /  3',\n",
       "  '12 **  2',\n",
       "  '12 **  0.5',\n",
       "  '12 **  (1/3)',\n",
       "  'import math\\nmath.sqrt(16)',\n",
       "  'import math\\nmath.pow(12,2)',\n",
       "  'import math\\nmath.floor(12.6)',\n",
       "  'import math\\nmath.ceil(12.1)',\n",
       "  'list1 = [1 ,2 , 3, 4,5 ]\\nlist1=[0:5:2]',\n",
       "  'list1 = [1 ,2 , 3, 4,5 ]\\nlist1[0:5:2]',\n",
       "  'list1 = [1 ,2 , 3, 4,5 ]\\nlist1[0:5:2]\\nlist1[-1:]',\n",
       "  'list1 = [1 ,2 , 3, 4,5 ]\\nlist1[0:5:2]\\nlist1[-2:]',\n",
       "  'list1 = [1 ,2 , 3, 4,5 ]\\nlist1[0:5:2]\\nlist1[::-1]',\n",
       "  'list1 = [1 ,2 , 3, 4,5 ]\\nlist1[0:5:2]# start , stop, step\\nlist1[::-1]# reverse \\nlist1[-2:]',\n",
       "  'list1 = [1 ,2 , 3, 4,5 ]\\nprint(list1[0:5:2])# start , stop, step\\nprint(list1[::-1])# reverse \\nprint(list1[-2:])',\n",
       "  'list1 = range(0,101)',\n",
       "  'list1 = range(0,101)\\nprint(lis1)',\n",
       "  'list1 = range(0,101)\\nprint(list1)',\n",
       "  'list1 = list(range(0,101))\\nprint(list1)',\n",
       "  'list1 = list(range(0,101))\\nprint(list1)\\nans = [ x for x in list1 if x %10 == 0]\\nprint(ans)',\n",
       "  'list1 = list(range(0,101))\\nprint(list1)\\nans = [for x in list1 if x % 10 == 0]\\nprint(ans)',\n",
       "  'list1 = list(range(0,101))\\nprint(list1)\\nans = [x in list1 if x % 10 == 0]\\nprint(ans)',\n",
       "  'list1 = list(range(0,101))\\nprint(list1)\\nans = [x in list1 if x%10 = 10]\\nprint(ans)',\n",
       "  'list1 = list(range(0,101))\\nprint(list1)\\nans = [x in list1 if x%10 == 10]\\nprint(ans)',\n",
       "  'list1 = list(range(0,101))\\nprint(list1)\\n#ans = [x in list1 if x%10 == 10]\\n#print(ans)',\n",
       "  'list1 = list(range(0,101))\\nprint(list1)\\nans = [x in list1 if x%10 == 10]\\n#print(ans)',\n",
       "  'list1 = list(range(0,101))\\nprint(list1)\\nans = [x if x%10 == 10]\\n#print(ans)',\n",
       "  'list1 = list(range(0,101))\\nprint(list1)\\n#[x for x in fruits if \"a\" in x]\\nans = [x fox in list1 if (x %10) == 0]\\n#print(ans)',\n",
       "  'list1 = list(range(0,101))\\nprint(list1)\\n#[x for x in fruits if \"a\" in x]\\nans = [x for in list1 if (x %10) == 0]\\n#print(ans)',\n",
       "  'list1 = list(range(0,101))\\nprint(list1)\\n#[x for x in fruits if \"a\" in x]\\nans = [x for x in list1 if (x %10) == 0]\\n#print(ans)',\n",
       "  'list1 = list(range(0,101))\\n#print(list1)\\n#[x for x in fruits if \"a\" in x]\\nans = [x for x in list1 if (x %10) == 0]\\nprint(ans)\\n#print(ans)',\n",
       "  'list1 = list(range(0,101))\\nans = [x for x in list1 if (x %10) == 0]\\nprint(ans)',\n",
       "  'a = [1,2]\\nb = [3,4]\\na+b',\n",
       "  'a = [1,2]\\nb = [3,4]\\na.append(b)',\n",
       "  'a = [1,2]\\nb = [3,4]\\nprint(a+b)\\na.append(b)\\nprint(a)',\n",
       "  'a = [1,2]\\nb = [3,4]\\nprint(a+b)\\na.append(b)\\nprint(a)\\n\\nprint[1,2,3,4,5].append(6))',\n",
       "  'a = [1,2]\\nb = [3,4]\\n#print(a+b)\\n#a.append(b)\\n#print(a)\\n\\nprint([1,2,3,4,5].append(6))',\n",
       "  'a = [1,2]\\nb = [3,4]\\n#print(a+b)\\n#a.append(b)\\n#print(a)\\n\\nprint(r=[1,2,3,4,5].append(6))',\n",
       "  'a = [1,2]\\nb = [3,4]\\n#print(a+b)\\n#a.append(b)\\n#print(a)\\n\\nr=[1,2,3,4,5].append(6)\\nprint(r)',\n",
       "  'a = [1,2]\\nb = [3,4]\\n#print(a+b)\\n#a.append(b)\\n#print(a)\\n\\nr=[1,2,3,4,5]\\nr.append(6)\\nprint(r)',\n",
       "  'a = [1,2]\\nb = [3,4]\\n#a.append(b)\\n#print(a)\\n\\nr=[1,2,3,4,5]\\nr.append(6)\\nprint(r)\\nprint(a+b)',\n",
       "  's1=set({1,2,3,4,5})\\ns1={1,2,3,4,5}',\n",
       "  's1=set({1,2,3,4,5})\\ns1={1,2,3,4,5}\\ns2 = {4,5}\\ns1.difference(s2)',\n",
       "  's1=set({1,2,3,4,5})\\ns1={1,2,3,4,5}\\ns2 = {4,5,6}\\ns1.union(s2)',\n",
       "  's1=set({1,2,3,4,5})\\ns1={1,2,3,4,5}\\ns2 = {4,5,6}\\ns1.intersection(s2)',\n",
       "  's1=set({1,2,3,4,5})\\ns1={1,2,3,4,5}\\ns2 = {4,5,6}\\ns1.intersection(s2)\\n\\na=(1,2)\\nprint(a)',\n",
       "  's1=set({1,2,3,4,5})\\ns1={1,2,3,4,5}\\ns2 = {4,5,6}\\ns1.intersection(s2)\\n\\na=(1,2)\\nprint(a[0])',\n",
       "  's1=set({1,2,3,4,5})\\ns1={1,2,3,4,5}\\ns2 = {4,5,6}\\ns1.intersection(s2)\\n\\na=(1,2)\\nprint(a[0])',\n",
       "  's1=set({1,2,3,4,5})\\ns1={1,2,3,4,5}\\ns2 = {4,5,6}\\ns1.intersection(s2)\\n\\na=(1,2)\\nprint(a[0])\\nprint(a[1])',\n",
       "  's1=set({1,2,3,4,5})\\ns1={1,2,3,4,5}\\ns2 = {4,5,6}\\ns1.intersection(s2)\\n\\na=(1,2)\\nprint(a[0])\\nprint(a[1])',\n",
       "  's1=set({1,2,3,4,5})\\ns1={1,2,3,4,5}\\ns2 = {4,5,6}\\ns1.intersection(s2)\\n\\na=(1,2)\\nprint(a[0])\\nprint(a[1])',\n",
       "  's1=set({1,2,3,4,5})\\ns1={1,2,3,4,5}\\ns2 = {4,5,6}\\ns1.intersection(s2)\\n\\na=(1,2)\\nprint(a[0])\\nprint(a[1])\\nfirst,second = a\\nprint(first)\\nprint(second)',\n",
       "  's1=set({1,2,3,4,5})\\ns1={1,2,3,4,5}\\ns2 = {4,5,6}\\ns1.intersection(s2)\\n\\na=(1,2)\\n#print(a[0])\\n#print(a[1])\\nfirst,second = a\\nprint(first)\\nprint(second)',\n",
       "  's={\"k1\" : \"v1\" ,\\n    \"k2\" : 2,\\n    3:  None}\\nprint(s.keys())',\n",
       "  's={\"k1\" : \"v1\" ,\\n    \"k2\" : 2,\\n    3:  None}\\nprint(s.values())',\n",
       "  'sMap={\"k1\" : \"v1\" ,\\n    \"k2\" : 2,\\n    3:  None}\\nprint(sMap.values())',\n",
       "  'for key,value in sMap:\\n    print(key, \" has value \" , value)',\n",
       "  'for key,value in sMap.items():\\n    print(key, \" has value \" , value)',\n",
       "  'sMap.items()',\n",
       "  \"sMap['k3'] = 100\",\n",
       "  \"sMap['k3']\",\n",
       "  \"'k3' in sMap\",\n",
       "  \"'k1000000' in sMap\",\n",
       "  'fh = open(\"/home/krishna/pythontraining/file1.txt\",\"r\")',\n",
       "  'fh.readlines()',\n",
       "  'list1=fh.readlines()',\n",
       "  'wordMap={}\\n\\nfor eachLine in list1:\\n    print(eachLine)',\n",
       "  'wordMap={}\\n\\nfor eachLine in list1:\\n    print(eachLine)',\n",
       "  'list1=fh.readlines()',\n",
       "  'wordMap={}\\n\\nfor eachLine in list1:\\n    print(eachLine)',\n",
       "  'fh = open(\"/home/krishna/pythontraining/file1.txt\",\"r\")',\n",
       "  'list1=fh.readlines()',\n",
       "  'list1=fh.readlines()\\nprint(list1)',\n",
       "  'fh = open(\"/home/krishna/pythontraining/file1.txt\",\"r\")\\nlist1=fh.readlines()\\nprint(list1)\\nfh.close()',\n",
       "  'wordMap={}\\n\\nfor eachLine in list1:\\n    print(eachLine)',\n",
       "  'wordMap={}\\n\\nfor eachLine in list1:\\n    print(eachLine.split())',\n",
       "  'wordMap={}\\n\\nfor eachLine in list1:\\n    words = eachLine.split()\\n    \\n    for eachWord in words:\\n        print(eachWord)',\n",
       "  'wordMap={}\\n\\nfor eachLine in list1:\\n    words = eachLine.split()\\n    \\n    for eachWord in words:\\n        print(eachWord)\\n        if eachWord in wordMap:\\n            wordMap[eachWord] = wordMap[eachWord] + 1\\n        else:\\n            wordMap[eachWord] = 1\\n\\nprint(wordMap)\\n    ',\n",
       "  'wordMap={}\\n\\nfor eachLine in list1:\\n    words = eachLine.split()\\n    \\n    for eachWord in words:\\n        #print(eachWord)\\n        if eachWord in wordMap:\\n            wordMap[eachWord] = wordMap[eachWord] + 1\\n        else:\\n            wordMap[eachWord] = 1\\n\\nprint(wordMap)\\n    ',\n",
       "  'vars()'],\n",
       " '_oh': {11: '\\nThis is also a comment\\nmulti-line\\n',\n",
       "  12: '\\nThis is also a comment\\nmulti-line\\n',\n",
       "  37: 'Brilliant New Year',\n",
       "  43: 12,\n",
       "  45: 12,\n",
       "  82: 1050,\n",
       "  84: 1050,\n",
       "  99: [11, 12, 13],\n",
       "  100: [13, 14, 15],\n",
       "  104: 0.6666666666666666,\n",
       "  105: 1.3333333333333333,\n",
       "  106: 1,\n",
       "  107: 1,\n",
       "  108: 2,\n",
       "  109: 4.0,\n",
       "  110: 144,\n",
       "  111: 3.4641016151377544,\n",
       "  112: 2.2894284851066637,\n",
       "  113: 4.0,\n",
       "  114: 144.0,\n",
       "  115: 12,\n",
       "  116: 13,\n",
       "  118: [1, 3, 5],\n",
       "  119: [5],\n",
       "  120: [4, 5],\n",
       "  121: [5, 4, 3, 2, 1],\n",
       "  122: [4, 5],\n",
       "  141: [1, 2, 3, 4],\n",
       "  151: {1, 2, 3},\n",
       "  152: {1, 2, 3, 4, 5, 6},\n",
       "  153: {4, 5},\n",
       "  167: dict_items([('k1', 'v1'), ('k2', 2), (3, None), ('k3', 100)]),\n",
       "  169: 100,\n",
       "  170: True,\n",
       "  171: False,\n",
       "  173: ['This is a sample file for word count\\n',\n",
       "   '\\n',\n",
       "   'word is repeated 2 times\\n',\n",
       "   '\\n',\n",
       "   'Hello World\\n']},\n",
       " '_dh': ['/home/krishna/pythontraining'],\n",
       " 'In': ['',\n",
       "  \"get_ipython().system('python --version')\",\n",
       "  \"get_ipython().system('cat helloworld.py')\",\n",
       "  \"get_ipython().system('python helloworld.py')\",\n",
       "  \"get_ipython().system('python')\\nprint('hello World')\",\n",
       "  \"get_ipython().system('python')\",\n",
       "  \"get_ipython().system('python')\",\n",
       "  '#keep a watch on space \\n\\nif 5 > 2:\\n  print(\"Five is greater than two!\")',\n",
       "  '#keep a watch on space \\nif 5 > 2:\\n   print(\"Five is greater than two!\")',\n",
       "  '#keep a watch on indentation. Blocks are indented by blank space or tab \\nif 5 > 2:\\n   print(\"Five is greater than two!\")',\n",
       "  'if 5 > 2:\\n print(\"Five is greater than two!\") \\nif 5 > 2:\\n        print(\"Five is greater than two!\") ',\n",
       "  \"# This is a comment\\n'''\\nThis is also a comment\\nmulti-line\\n'''\",\n",
       "  '# This is a comment\\n\"\"\"\\nThis is also a comment\\nmulti-line\\n\"\"\"',\n",
       "  'number = 10\\nfloatNumber = -1.05\\ncity = \"Chennai\"\\nprint(\"number =\" , number)\\nprint(\"floatNumber =\" , floatNumber)\\nprint(\"city = \", city)\\n\\nprint(\"type of number =\" , type(number))\\nprint(\"type of floatNumber =\" , type(floatNumber))\\nprint(\"type of city = \",  type(city))',\n",
       "  'print(\"type of number =\" , type(number))\\nprint(\"type of floatNumber =\" , type(floatNumber))\\nprint(\"type of city = \",  type(city))',\n",
       "  'x=None',\n",
       "  'x=None\\nprint(type(x))',\n",
       "  \"print(str(3) + '1')\\nprint(int('1') + 2)\",\n",
       "  'var1 = \"1\"\\nVar1 = 2\\nprint(var1)\\nprint(Var1)',\n",
       "  '# assigning multiple values\\n\\nv1, v2, v3 = 10, 20, 30\\nprint(v1)\\nprint(v2)\\nprint(v3)',\n",
       "  'x = y = z = \"Orange\"\\nprint(x)\\nprint(y)\\nprint(z)',\n",
       "  'fruits = [\"apple\", \"banana\", \"cherry\"]\\nx, y, z = fruits\\nprint(x)\\nprint(y)\\nprint(z)',\n",
       "  'fruits = [\"apple\", \"banana\", \"cherry\"]\\nx, y = fruits\\nprint(x)\\nprint(y)\\nprint(z)',\n",
       "  'fruits = [\"apple\", \"banana\", \"cherry\"]\\nx, y,z = fruits\\nprint(x)\\nprint(y)\\nprint(z)',\n",
       "  'fruits = [\"apple\", \"banana\", \"jackfruit\"]\\nx, y,z = fruits\\nprint(x)\\nprint(y)\\nprint(z)',\n",
       "  '# extracting each value in a list\\nfruits = [\"apple\", \"banana\", \"jackfruit\"]\\nx, y,z = fruits\\nprint(x)\\nprint(y)\\nprint(z)',\n",
       "  'x = \"global\"\\n\\ndef myfunc():\\n  print(\"x is  \" + x)\\n\\nmyfunc()',\n",
       "  '# Use of global variable\\n# \\n# Local variables are available inside a function\\n# Global variables are available anywhere in the file\\nx = \"global\"\\n\\ndef myfunc():\\n  print(\"x is  \" + x)\\n\\nmyfunc()',\n",
       "  '# Data types in Python\\n\\n#   Text Type:  str\\n#   Numeric Types:  int, float, complex\\n#   Sequence Types:  list, tuple, range\\n#   Mapping Type:   dict\\n#   Set Types:  set, frozenset\\n#   Boolean Type: bool\\n#   Binary Types:  bytes, bytearray, memoryview',\n",
       "  'x = [\"apple\", \"banana\", \"jackfruit\"]  #list\\nx = (\"apple\", \"banana\", \"jackfruit\")  #tuple  , cannot be modified\\nx = range(0,6)  #   list of numbers from 0 to 5\\nx = {\"name\" : \"John\", \"age\" : 36}    #Dictionary \\nx = {\"apple\", \"banana\", \"jackfruit\"}  # Set \\nx = frozenset({\"apple\", \"banana\", \"jackfruit\"}) #frozenset , cannot be modified\\nx = True     #Boolean\\nx = b\"Hello\"  #bytes\\nx = bytearray(5)  #bytearray\\nx = memoryview(bytes(5)) #memoryview',\n",
       "  'l1 = [1,2]\\nl2 = [2,3,4]\\nprint(l1 in l2)',\n",
       "  'l1 = [2,3]\\nl2 = [2,3,4]\\nprint(l1 in l2)',\n",
       "  '# defining strings in Python\\n# all of the following are equivalent\\nmy_string = \\'Hello\\'\\nprint(my_string)\\n\\nmy_string = \"Hello\"\\nprint(my_string)\\n\\nmy_string = \\'\\'\\'Hello\\'\\'\\'\\nprint(my_string)\\n\\n# triple quotes string can extend multiple lines\\nmy_string = \"\"\"Hello, welcome to\\n           the world of Python\"\"\"\\nprint(my_string)',\n",
       "  \"# Python String Operations\\nstr1 = 'Hello'\\nstr2 ='World!'\\n\\n# using +\\nprint('str1 + str2 = ', str1 + str2)\\n\\n# using *\\nprint('str1 * 3 =', str1 * 3)\",\n",
       "  \"# Iterating through a string\\ncount = 0\\nfor letter in 'Hello World':\\n    if(letter == 'l'):\\n        count += 1\\nprint(count,'letters found')\",\n",
       "  \"str = 'cold'\\n\\n# enumerate()\\nlist_enumerate = list(enumerate(str))\\nprint('list(enumerate(str) = ', list_enumerate)\\n\\n#character count\\nprint('len(str) = ', len(str))\",\n",
       "  '# Python string format() method\\n\\n# default(implicit) order\\ndefault_order = \"{}, {} and {}\".format(\\'John\\',\\'Bill\\',\\'Sean\\')\\nprint(\\'\\\\n--- Default Order ---\\')\\nprint(default_order)\\n\\n# order using positional argument\\npositional_order = \"{1}, {0} and {2}\".format(\\'John\\',\\'Bill\\',\\'Sean\\')\\nprint(\\'\\\\n--- Positional Order ---\\')\\nprint(positional_order)\\n\\n# order using keyword argument\\nkeyword_order = \"{s}, {b} and {j}\".format(j=\\'John\\',b=\\'Bill\\',s=\\'Sean\\')\\nprint(\\'\\\\n--- Keyword Order ---\\')\\nprint(keyword_order)',\n",
       "  '\"PrOgRaMiZ\".lower()\\n\\'programiz\\'\\n\"PrOgRaMiZ\".upper()\\n\\'PROGRAMIZ\\'\\n\"This will split all words into a list\".split()\\n[\\'This\\', \\'will\\', \\'split\\', \\'all\\', \\'words\\', \\'into\\', \\'a\\', \\'list\\']\\n\\' \\'.join([\\'This\\', \\'will\\', \\'join\\', \\'all\\', \\'words\\', \\'into\\', \\'a\\', \\'string\\'])\\n\\'This will join all words into a string\\'\\n\\'Happy New Year\\'.find(\\'ew\\')\\n7\\n\\'Happy New Year\\'.replace(\\'Happy\\',\\'Brilliant\\')\\n\\'Brilliant New Year\\'',\n",
       "  '# For loop example\\n\\nfor i in range(0,6):\\n    print(i)',\n",
       "  '#for loop example 2\\nfor i in range(0,6,2):\\n    print(2)',\n",
       "  'i=0\\n\\nwhile i<5:\\n    print(i)\\n    i++',\n",
       "  'i=0\\n\\nwhile i<5:\\n    print(i)\\n    i+=1',\n",
       "  \"print('hello world')\",\n",
       "  'a=3\\nb=4\\na*b',\n",
       "  'a=3\\nb=4\\nprint(a*b)',\n",
       "  'a=3\\nb=4\\na*b',\n",
       "  \"get_ipython().system('python --version')\",\n",
       "  \"get_ipython().system('python --version')\",\n",
       "  \"get_ipython().system('hostname')\",\n",
       "  '# Atlast one blank space should be there to start a separate block of code\\n#\\n#\\nif 5 > 2:\\n print(\"Five is greater than two!\") \\nif 5 > 2:\\n        print(\"Five is greater than two!\") ',\n",
       "  '#keep a watch on indentation. Blocks are indented by blank space or tab \\nif 5 > 2:\\n   print(\"Five is greater than two!\")',\n",
       "  '#keep a watch on indentation. Blocks are indented by blank space or tab \\nif 5 > 2:\\n   print(\"Five is greater than two!\")',\n",
       "  '# Atlast one blank space should be there to start a separate block of code\\n#\\n#\\nif 5 > 2:\\n print(\"Five is greater than two!\") \\nif 5 > 2:\\n        print(\"Five is greater than two!\") ',\n",
       "  '# Atlast one blank space should be there to start a separate block of code\\n#\\n#\\nif 5 > 2:\\n print(\"Five is greater than two!\") \\nif 5 > 2:\\n        print(\"Five is greater than two!\") \\n           print(\\'error\\')',\n",
       "  '# Atlast one blank space should be there to start a separate block of code\\n#\\n#\\nif 5 > 2:\\n print(\"Five is greater than two!\") \\nif 5 > 2:\\n        print(\"Five is greater than two!\") \\n        print(\\'error\\')',\n",
       "  '# Atlast one blank space should be there to start a separate block of code\\n#\\n#\\nif 5 > 2:\\n print(\"Five is greater than two!\") \\nif 5 > 2:\\n        print(\"Five is greater than two!\") \\n          print(\\'error\\')',\n",
       "  'number = 10\\nfloatNumber = -1.05\\ncity = \"Chennai\"\\nprint(\"number =\" , number)\\nprint(\"floatNumber =\" , floatNumber)\\nprint(\"city = \", city)',\n",
       "  'print(\"type of number =\" , type(number))\\nprint(\"type of floatNumber =\" , type(floatNumber))\\nprint(\"type of city = \",  type(city))',\n",
       "  'x=None\\nprint(type(x))\\n\\nprint(x is None)',\n",
       "  'x=None\\n#print(type(x))\\n\\nprint(x is None)',\n",
       "  'x=None\\n#print(type(x))\\n\\nprint(x is not None)',\n",
       "  \"#Type Casting\\nChanging from one type to another\\nprint(str(3) + '1')\\nprint(int('1') + 2)\\nprint(float('1.0'))\",\n",
       "  \"#Type Casting\\n#Changing from one type to another\\nprint(str(3) + '1')\\nprint(int('1') + 2)\\nprint(float('1.0'))\",\n",
       "  \"#Type Casting\\n#Changing from one type to another\\nprint(str(3))\\nprint(int('1') + 2)\\nprint(float('1.0'))\",\n",
       "  \"#Type Casting\\n#Changing from one type to another\\n#print(str(3))\\n#print(int('1') + 2)\\n#print(float('1.0'))\\nprint(str)\",\n",
       "  \"#Type Casting\\n#Changing from one type to another\\n#print(str(3))\\n#print(int('1') + 2)\\n#print(float('1.0'))\\ndel str\",\n",
       "  \"#Type Casting\\n#Changing from one type to another\\n#print(str(3))\\n#print(int('1') + 2)\\n#print(float('1.0'))\\n#del str\\n\\nprint(str(3))\",\n",
       "  \"#Type Casting\\n#Changing from one type to another\\nprint(str(3))\\nprint(int('1') + 2)\\nprint(float('1.0'))\\n#del str\\n\\nprint(str(3))\",\n",
       "  '# assigning multiple values\\n\\nv1, v2, v3 = 10, 20, 30\\nprint(v1)\\nprint(v2)\\nprint(v3)',\n",
       "  '# extracting each value in a list\\nfruits = [\"apple\", \"banana\", \"jackfruit\"]\\nx, y,z = fruits\\nprint(x)\\nprint(y)\\nprint(z)',\n",
       "  '# Use of global variable\\n# \\n# Local variables are available inside a function\\n# Global variables are available anywhere in the file\\nx = \"global\"\\n\\ndef myfunc(n1,n2):\\n  print(\"x is  \" + x)\\n\\nmyfunc(1,1)',\n",
       "  '# Use of global variable\\n# \\n# Local variables are available inside a function\\n# Global variables are available anywhere in the file\\n#x = \"global\"\\n\\ndef myfunc(n1,n2):\\n  print(\"x is  \" + x)\\n\\nmyfunc(1,1)',\n",
       "  '# Use of global variable\\n# \\n# Local variables are available inside a function\\n# Global variables are available anywhere in the file\\n#x = \"global\"\\n\\ndef myfunc(n1,n2):\\n  print(\"x is  \" + x1233)\\n\\nmyfunc(1,1)',\n",
       "  'x = \"Hello World\"   #str \\nx = 10        # int\\nx = 20.5      # float\\nx = -87.7e100 # float exponential form\\nx  = 1j      # complex\\n\\n\\nprint(2e2)',\n",
       "  '# For loop example\\n\\nfor i in range(0,6):\\n    print(i)',\n",
       "  '# For loop example\\n\\nvar = range(0,6)\\nprint(var)\\nfor i in range(0,6):\\n    print(i)',\n",
       "  '# For loop example\\n\\nvar = range(0,6)\\nprint(list(var))\\nfor i in range(0,6):\\n    print(i)',\n",
       "  \"# For loop example\\n'''var = range(0,6)\\nprint(list(var))\\nfor i in range(0,6):\\n    print(i)\\n'''    \\n# Suppose we want to sum the multiples of 5 from 1 to 100 both inclusive\\n\\ntotal=0 \\nvalues = range(0,105, 5)\\nprint(values)\",\n",
       "  \"# For loop example\\n'''var = range(0,6)\\nprint(list(var))\\nfor i in range(0,6):\\n    print(i)\\n'''    \\n# Suppose we want to sum the multiples of 5 from 1 to 100 both inclusive\\n\\ntotal=0 \\nvalues = range(0,105, 5)\\nprint(list(values))\",\n",
       "  \"# For loop example\\n'''var = range(0,6)\\nprint(list(var))\\nfor i in range(0,6):\\n    print(i)\\n'''    \\n# Suppose we want to sum the multiples of 5 from 1 to 100 both inclusive\\n\\ntotal=0 \\nvalues = range(0,105, 5)\\nprint(list(values))\\n\\nfor i in values:\\n    total=total + i\\nprint(total)\",\n",
       "  '# While loop\\nnumber=0\\n\\nwhile number <105:\\n    print(number)\\n    total = total + number\\n    number+=5\\nprint(total)    ',\n",
       "  \"# While loop\\nnumber=0\\n\\nwhile number <105:\\n    print(number)\\n    total = total + number\\n    number+=5\\nprint('total= ',total)    \",\n",
       "  'var1=range(0,105,5)\\nsum(var1)',\n",
       "  \"# While loop\\nnumber=0\\ntotal=0\\nwhile number <105:\\n    print(number)\\n    total = total + number\\n    number+=5\\nprint('total= ',total)    \",\n",
       "  'var1=range(0,105,5)\\nsum(var1)',\n",
       "  'help(sum)',\n",
       "  'help(range)',\n",
       "  \"a = 3\\nb = 2\\n\\nif (a > b ):\\n    print('a is greater')\",\n",
       "  \"a = 3\\nb = 2\\n\\nif (a > b ):\\n    print('a is greater')\\nelse:\\n    print('b is greater')\",\n",
       "  \"a = 3\\nb = 2\\nc = 5\\n\\nif (a > b ):\\n    if (a > c):\\n        print('a is greater')\\n    else:\\n        print('c is greater')\\nelif (b > c):\\n    print('b is greater')\\nelse:\\n    print('c is greater')\",\n",
       "  \"a = 3\\nb = 7\\nc = 5\\n\\nif (a > b ):\\n    if (a > c):\\n        print('a is greater')\\n    else:\\n        print('c is greater')\\nelif (b > c):\\n    print('b is greater')\\nelse:\\n    print('c is greater')\",\n",
       "  \"a = 10\\nb = 7\\nc = 5\\n\\nif (a > b ):\\n    if (a > c):\\n        print('a is greater')\\n    else:\\n        print('c is greater')\\nelif (b > c):\\n    print('b is greater')\\nelse:\\n    print('c is greater')\",\n",
       "  \"# Python String Operations\\nstr1 = 'Hello'\\nstr2 ='World!'\\n\\n# using +\\nprint('str1 + str2 = ', str1 + str2)\\n\\n# using *\\nprint('str1 * 3 =', str1 * 3)\\n\\nprint(str1[0:3])\",\n",
       "  \"print('hello' + 'world')\",\n",
       "  \"print('hello' * 3)\",\n",
       "  \"print('hello'[0:2])\",\n",
       "  \"print('hello'[-2:])\",\n",
       "  \"# Iterating through a string\\ncount = 0\\nfor letter in 'Hello World':\\n    if(letter == 'l'):\\n        count += 1\\nprint(count,'letters found')\\n\\n\\na=[11,12,13,14,15]\\nfor i in a:\\n    print(i)\",\n",
       "  \"# Iterating through a string\\ncount = 0\\nfor letter in 'Hello World':\\n    if(letter == 'l'):\\n        count += 1\\n#print(count,'letters found')\\n\\n\\na=[11,12,13,14,15]\\nfor i in a:\\n    print(i)\",\n",
       "  \"# Iterating through a string\\ncount = 0\\nfor letter in 'Hello World':\\n    if(letter == 'l'):\\n        count += 1\\n#print(count,'letters found')\\n\\n\\na=[11,12,13,14,15]\\nfor i in a:\\n    pass\\n    #print(i)\\na[0:3]\",\n",
       "  \"# Iterating through a string\\ncount = 0\\nfor letter in 'Hello World':\\n    if(letter == 'l'):\\n        count += 1\\n#print(count,'letters found')\\n\\n\\na=[11,12,13,14,15]\\nfor i in a:\\n    pass\\n    #print(i)\\na[-3:]\",\n",
       "  \"token = 'cold'\\n\\n# enumerate()\\nlist_enumerate = list(enumerate(token))\\nprint('list(enumerate(str) = ', list_enumerate)\\n\\n#character count\\nprint('len(str) = ', len(str))\",\n",
       "  \"token = 'cold'\\n\\n# enumerate()\\nlist_enumerate = list(enumerate(token))\\nprint('list(enumerate(str) = ', list_enumerate)\\n\\n#character count\\nprint('len(str) = ', len(token))\",\n",
       "  \"token = 'cold'\\n\\n# enumerate()\\nlist_enumerate = list(enumerate(token))\\nprint('list(enumerate(str) = ', list_enumerate)\\n\\n#character count\\nprint('len(str) = ', len(token))\\nprint(token[3])\",\n",
       "  '2 / 3',\n",
       "  '4 / 3',\n",
       "  '4 // 3',\n",
       "  '10 %  3',\n",
       "  '11 %  3',\n",
       "  '12 /  3',\n",
       "  '12 **  2',\n",
       "  '12 **  0.5',\n",
       "  '12 **  (1/3)',\n",
       "  'import math\\nmath.sqrt(16)',\n",
       "  'import math\\nmath.pow(12,2)',\n",
       "  'import math\\nmath.floor(12.6)',\n",
       "  'import math\\nmath.ceil(12.1)',\n",
       "  'list1 = [1 ,2 , 3, 4,5 ]\\nlist1=[0:5:2]',\n",
       "  'list1 = [1 ,2 , 3, 4,5 ]\\nlist1[0:5:2]',\n",
       "  'list1 = [1 ,2 , 3, 4,5 ]\\nlist1[0:5:2]\\nlist1[-1:]',\n",
       "  'list1 = [1 ,2 , 3, 4,5 ]\\nlist1[0:5:2]\\nlist1[-2:]',\n",
       "  'list1 = [1 ,2 , 3, 4,5 ]\\nlist1[0:5:2]\\nlist1[::-1]',\n",
       "  'list1 = [1 ,2 , 3, 4,5 ]\\nlist1[0:5:2]# start , stop, step\\nlist1[::-1]# reverse \\nlist1[-2:]',\n",
       "  'list1 = [1 ,2 , 3, 4,5 ]\\nprint(list1[0:5:2])# start , stop, step\\nprint(list1[::-1])# reverse \\nprint(list1[-2:])',\n",
       "  'list1 = range(0,101)',\n",
       "  'list1 = range(0,101)\\nprint(lis1)',\n",
       "  'list1 = range(0,101)\\nprint(list1)',\n",
       "  'list1 = list(range(0,101))\\nprint(list1)',\n",
       "  'list1 = list(range(0,101))\\nprint(list1)\\nans = [ x for x in list1 if x %10 == 0]\\nprint(ans)',\n",
       "  'list1 = list(range(0,101))\\nprint(list1)\\nans = [for x in list1 if x % 10 == 0]\\nprint(ans)',\n",
       "  'list1 = list(range(0,101))\\nprint(list1)\\nans = [x in list1 if x % 10 == 0]\\nprint(ans)',\n",
       "  'list1 = list(range(0,101))\\nprint(list1)\\nans = [x in list1 if x%10 = 10]\\nprint(ans)',\n",
       "  'list1 = list(range(0,101))\\nprint(list1)\\nans = [x in list1 if x%10 == 10]\\nprint(ans)',\n",
       "  'list1 = list(range(0,101))\\nprint(list1)\\n#ans = [x in list1 if x%10 == 10]\\n#print(ans)',\n",
       "  'list1 = list(range(0,101))\\nprint(list1)\\nans = [x in list1 if x%10 == 10]\\n#print(ans)',\n",
       "  'list1 = list(range(0,101))\\nprint(list1)\\nans = [x if x%10 == 10]\\n#print(ans)',\n",
       "  'list1 = list(range(0,101))\\nprint(list1)\\n#[x for x in fruits if \"a\" in x]\\nans = [x fox in list1 if (x %10) == 0]\\n#print(ans)',\n",
       "  'list1 = list(range(0,101))\\nprint(list1)\\n#[x for x in fruits if \"a\" in x]\\nans = [x for in list1 if (x %10) == 0]\\n#print(ans)',\n",
       "  'list1 = list(range(0,101))\\nprint(list1)\\n#[x for x in fruits if \"a\" in x]\\nans = [x for x in list1 if (x %10) == 0]\\n#print(ans)',\n",
       "  'list1 = list(range(0,101))\\n#print(list1)\\n#[x for x in fruits if \"a\" in x]\\nans = [x for x in list1 if (x %10) == 0]\\nprint(ans)\\n#print(ans)',\n",
       "  'list1 = list(range(0,101))\\nans = [x for x in list1 if (x %10) == 0]\\nprint(ans)',\n",
       "  'a = [1,2]\\nb = [3,4]\\na+b',\n",
       "  'a = [1,2]\\nb = [3,4]\\na.append(b)',\n",
       "  'a = [1,2]\\nb = [3,4]\\nprint(a+b)\\na.append(b)\\nprint(a)',\n",
       "  'a = [1,2]\\nb = [3,4]\\nprint(a+b)\\na.append(b)\\nprint(a)\\n\\nprint[1,2,3,4,5].append(6))',\n",
       "  'a = [1,2]\\nb = [3,4]\\n#print(a+b)\\n#a.append(b)\\n#print(a)\\n\\nprint([1,2,3,4,5].append(6))',\n",
       "  'a = [1,2]\\nb = [3,4]\\n#print(a+b)\\n#a.append(b)\\n#print(a)\\n\\nprint(r=[1,2,3,4,5].append(6))',\n",
       "  'a = [1,2]\\nb = [3,4]\\n#print(a+b)\\n#a.append(b)\\n#print(a)\\n\\nr=[1,2,3,4,5].append(6)\\nprint(r)',\n",
       "  'a = [1,2]\\nb = [3,4]\\n#print(a+b)\\n#a.append(b)\\n#print(a)\\n\\nr=[1,2,3,4,5]\\nr.append(6)\\nprint(r)',\n",
       "  'a = [1,2]\\nb = [3,4]\\n#a.append(b)\\n#print(a)\\n\\nr=[1,2,3,4,5]\\nr.append(6)\\nprint(r)\\nprint(a+b)',\n",
       "  's1=set({1,2,3,4,5})\\ns1={1,2,3,4,5}',\n",
       "  's1=set({1,2,3,4,5})\\ns1={1,2,3,4,5}\\ns2 = {4,5}\\ns1.difference(s2)',\n",
       "  's1=set({1,2,3,4,5})\\ns1={1,2,3,4,5}\\ns2 = {4,5,6}\\ns1.union(s2)',\n",
       "  's1=set({1,2,3,4,5})\\ns1={1,2,3,4,5}\\ns2 = {4,5,6}\\ns1.intersection(s2)',\n",
       "  's1=set({1,2,3,4,5})\\ns1={1,2,3,4,5}\\ns2 = {4,5,6}\\ns1.intersection(s2)\\n\\na=(1,2)\\nprint(a)',\n",
       "  's1=set({1,2,3,4,5})\\ns1={1,2,3,4,5}\\ns2 = {4,5,6}\\ns1.intersection(s2)\\n\\na=(1,2)\\nprint(a[0])',\n",
       "  's1=set({1,2,3,4,5})\\ns1={1,2,3,4,5}\\ns2 = {4,5,6}\\ns1.intersection(s2)\\n\\na=(1,2)\\nprint(a[0])',\n",
       "  's1=set({1,2,3,4,5})\\ns1={1,2,3,4,5}\\ns2 = {4,5,6}\\ns1.intersection(s2)\\n\\na=(1,2)\\nprint(a[0])\\nprint(a[1])',\n",
       "  's1=set({1,2,3,4,5})\\ns1={1,2,3,4,5}\\ns2 = {4,5,6}\\ns1.intersection(s2)\\n\\na=(1,2)\\nprint(a[0])\\nprint(a[1])',\n",
       "  's1=set({1,2,3,4,5})\\ns1={1,2,3,4,5}\\ns2 = {4,5,6}\\ns1.intersection(s2)\\n\\na=(1,2)\\nprint(a[0])\\nprint(a[1])',\n",
       "  's1=set({1,2,3,4,5})\\ns1={1,2,3,4,5}\\ns2 = {4,5,6}\\ns1.intersection(s2)\\n\\na=(1,2)\\nprint(a[0])\\nprint(a[1])\\nfirst,second = a\\nprint(first)\\nprint(second)',\n",
       "  's1=set({1,2,3,4,5})\\ns1={1,2,3,4,5}\\ns2 = {4,5,6}\\ns1.intersection(s2)\\n\\na=(1,2)\\n#print(a[0])\\n#print(a[1])\\nfirst,second = a\\nprint(first)\\nprint(second)',\n",
       "  's={\"k1\" : \"v1\" ,\\n    \"k2\" : 2,\\n    3:  None}\\nprint(s.keys())',\n",
       "  's={\"k1\" : \"v1\" ,\\n    \"k2\" : 2,\\n    3:  None}\\nprint(s.values())',\n",
       "  'sMap={\"k1\" : \"v1\" ,\\n    \"k2\" : 2,\\n    3:  None}\\nprint(sMap.values())',\n",
       "  'for key,value in sMap:\\n    print(key, \" has value \" , value)',\n",
       "  'for key,value in sMap.items():\\n    print(key, \" has value \" , value)',\n",
       "  'sMap.items()',\n",
       "  \"sMap['k3'] = 100\",\n",
       "  \"sMap['k3']\",\n",
       "  \"'k3' in sMap\",\n",
       "  \"'k1000000' in sMap\",\n",
       "  'fh = open(\"/home/krishna/pythontraining/file1.txt\",\"r\")',\n",
       "  'fh.readlines()',\n",
       "  'list1=fh.readlines()',\n",
       "  'wordMap={}\\n\\nfor eachLine in list1:\\n    print(eachLine)',\n",
       "  'wordMap={}\\n\\nfor eachLine in list1:\\n    print(eachLine)',\n",
       "  'list1=fh.readlines()',\n",
       "  'wordMap={}\\n\\nfor eachLine in list1:\\n    print(eachLine)',\n",
       "  'fh = open(\"/home/krishna/pythontraining/file1.txt\",\"r\")',\n",
       "  'list1=fh.readlines()',\n",
       "  'list1=fh.readlines()\\nprint(list1)',\n",
       "  'fh = open(\"/home/krishna/pythontraining/file1.txt\",\"r\")\\nlist1=fh.readlines()\\nprint(list1)\\nfh.close()',\n",
       "  'wordMap={}\\n\\nfor eachLine in list1:\\n    print(eachLine)',\n",
       "  'wordMap={}\\n\\nfor eachLine in list1:\\n    print(eachLine.split())',\n",
       "  'wordMap={}\\n\\nfor eachLine in list1:\\n    words = eachLine.split()\\n    \\n    for eachWord in words:\\n        print(eachWord)',\n",
       "  'wordMap={}\\n\\nfor eachLine in list1:\\n    words = eachLine.split()\\n    \\n    for eachWord in words:\\n        print(eachWord)\\n        if eachWord in wordMap:\\n            wordMap[eachWord] = wordMap[eachWord] + 1\\n        else:\\n            wordMap[eachWord] = 1\\n\\nprint(wordMap)\\n    ',\n",
       "  'wordMap={}\\n\\nfor eachLine in list1:\\n    words = eachLine.split()\\n    \\n    for eachWord in words:\\n        #print(eachWord)\\n        if eachWord in wordMap:\\n            wordMap[eachWord] = wordMap[eachWord] + 1\\n        else:\\n            wordMap[eachWord] = 1\\n\\nprint(wordMap)\\n    ',\n",
       "  'vars()'],\n",
       " 'Out': {11: '\\nThis is also a comment\\nmulti-line\\n',\n",
       "  12: '\\nThis is also a comment\\nmulti-line\\n',\n",
       "  37: 'Brilliant New Year',\n",
       "  43: 12,\n",
       "  45: 12,\n",
       "  82: 1050,\n",
       "  84: 1050,\n",
       "  99: [11, 12, 13],\n",
       "  100: [13, 14, 15],\n",
       "  104: 0.6666666666666666,\n",
       "  105: 1.3333333333333333,\n",
       "  106: 1,\n",
       "  107: 1,\n",
       "  108: 2,\n",
       "  109: 4.0,\n",
       "  110: 144,\n",
       "  111: 3.4641016151377544,\n",
       "  112: 2.2894284851066637,\n",
       "  113: 4.0,\n",
       "  114: 144.0,\n",
       "  115: 12,\n",
       "  116: 13,\n",
       "  118: [1, 3, 5],\n",
       "  119: [5],\n",
       "  120: [4, 5],\n",
       "  121: [5, 4, 3, 2, 1],\n",
       "  122: [4, 5],\n",
       "  141: [1, 2, 3, 4],\n",
       "  151: {1, 2, 3},\n",
       "  152: {1, 2, 3, 4, 5, 6},\n",
       "  153: {4, 5},\n",
       "  167: dict_items([('k1', 'v1'), ('k2', 2), (3, None), ('k3', 100)]),\n",
       "  169: 100,\n",
       "  170: True,\n",
       "  171: False,\n",
       "  173: ['This is a sample file for word count\\n',\n",
       "   '\\n',\n",
       "   'word is repeated 2 times\\n',\n",
       "   '\\n',\n",
       "   'Hello World\\n']},\n",
       " 'get_ipython': <bound method InteractiveShell.get_ipython of <ipykernel.zmqshell.ZMQInteractiveShell object at 0x7f777d74fdd8>>,\n",
       " 'exit': <IPython.core.autocall.ZMQExitAutocall at 0x7f777c72e1d0>,\n",
       " 'quit': <IPython.core.autocall.ZMQExitAutocall at 0x7f777c72e1d0>,\n",
       " '_': ['This is a sample file for word count\\n',\n",
       "  '\\n',\n",
       "  'word is repeated 2 times\\n',\n",
       "  '\\n',\n",
       "  'Hello World\\n'],\n",
       " '__': False,\n",
       " '___': True,\n",
       " '_i': 'wordMap={}\\n\\nfor eachLine in list1:\\n    words = eachLine.split()\\n    \\n    for eachWord in words:\\n        #print(eachWord)\\n        if eachWord in wordMap:\\n            wordMap[eachWord] = wordMap[eachWord] + 1\\n        else:\\n            wordMap[eachWord] = 1\\n\\nprint(wordMap)\\n    ',\n",
       " '_ii': 'wordMap={}\\n\\nfor eachLine in list1:\\n    words = eachLine.split()\\n    \\n    for eachWord in words:\\n        print(eachWord)\\n        if eachWord in wordMap:\\n            wordMap[eachWord] = wordMap[eachWord] + 1\\n        else:\\n            wordMap[eachWord] = 1\\n\\nprint(wordMap)\\n    ',\n",
       " '_iii': 'wordMap={}\\n\\nfor eachLine in list1:\\n    words = eachLine.split()\\n    \\n    for eachWord in words:\\n        print(eachWord)',\n",
       " '_i1': '!python --version',\n",
       " '_exit_code': 0,\n",
       " '_i2': '!cat helloworld.py',\n",
       " '_i3': '!python helloworld.py',\n",
       " '_i4': \"!python\\nprint('hello World')\",\n",
       " '_i5': '!python',\n",
       " '_i6': '!python',\n",
       " '_i7': '#keep a watch on space \\n\\nif 5 > 2:\\n  print(\"Five is greater than two!\")',\n",
       " '_i8': '#keep a watch on space \\nif 5 > 2:\\n   print(\"Five is greater than two!\")',\n",
       " '_i9': '#keep a watch on indentation. Blocks are indented by blank space or tab \\nif 5 > 2:\\n   print(\"Five is greater than two!\")',\n",
       " '_i10': 'if 5 > 2:\\n print(\"Five is greater than two!\") \\nif 5 > 2:\\n        print(\"Five is greater than two!\") ',\n",
       " '_i11': \"# This is a comment\\n'''\\nThis is also a comment\\nmulti-line\\n'''\",\n",
       " '_11': '\\nThis is also a comment\\nmulti-line\\n',\n",
       " '_i12': '# This is a comment\\n\"\"\"\\nThis is also a comment\\nmulti-line\\n\"\"\"',\n",
       " '_12': '\\nThis is also a comment\\nmulti-line\\n',\n",
       " '_i13': 'number = 10\\nfloatNumber = -1.05\\ncity = \"Chennai\"\\nprint(\"number =\" , number)\\nprint(\"floatNumber =\" , floatNumber)\\nprint(\"city = \", city)\\n\\nprint(\"type of number =\" , type(number))\\nprint(\"type of floatNumber =\" , type(floatNumber))\\nprint(\"type of city = \",  type(city))',\n",
       " 'number': 105,\n",
       " 'floatNumber': -1.05,\n",
       " 'city': 'Chennai',\n",
       " '_i14': 'print(\"type of number =\" , type(number))\\nprint(\"type of floatNumber =\" , type(floatNumber))\\nprint(\"type of city = \",  type(city))',\n",
       " '_i15': 'x=None',\n",
       " 'x': 1j,\n",
       " '_i16': 'x=None\\nprint(type(x))',\n",
       " '_i17': \"print(str(3) + '1')\\nprint(int('1') + 2)\",\n",
       " '_i18': 'var1 = \"1\"\\nVar1 = 2\\nprint(var1)\\nprint(Var1)',\n",
       " 'var1': range(0, 105, 5),\n",
       " 'Var1': 2,\n",
       " '_i19': '# assigning multiple values\\n\\nv1, v2, v3 = 10, 20, 30\\nprint(v1)\\nprint(v2)\\nprint(v3)',\n",
       " 'v1': 10,\n",
       " 'v2': 20,\n",
       " 'v3': 30,\n",
       " '_i20': 'x = y = z = \"Orange\"\\nprint(x)\\nprint(y)\\nprint(z)',\n",
       " 'y': 'banana',\n",
       " 'z': 'jackfruit',\n",
       " '_i21': 'fruits = [\"apple\", \"banana\", \"cherry\"]\\nx, y, z = fruits\\nprint(x)\\nprint(y)\\nprint(z)',\n",
       " 'fruits': ['apple', 'banana', 'jackfruit'],\n",
       " '_i22': 'fruits = [\"apple\", \"banana\", \"cherry\"]\\nx, y = fruits\\nprint(x)\\nprint(y)\\nprint(z)',\n",
       " '_i23': 'fruits = [\"apple\", \"banana\", \"cherry\"]\\nx, y,z = fruits\\nprint(x)\\nprint(y)\\nprint(z)',\n",
       " '_i24': 'fruits = [\"apple\", \"banana\", \"jackfruit\"]\\nx, y,z = fruits\\nprint(x)\\nprint(y)\\nprint(z)',\n",
       " '_i25': '# extracting each value in a list\\nfruits = [\"apple\", \"banana\", \"jackfruit\"]\\nx, y,z = fruits\\nprint(x)\\nprint(y)\\nprint(z)',\n",
       " '_i26': 'x = \"global\"\\n\\ndef myfunc():\\n  print(\"x is  \" + x)\\n\\nmyfunc()',\n",
       " 'myfunc': <function __main__.myfunc(n1, n2)>,\n",
       " '_i27': '# Use of global variable\\n# \\n# Local variables are available inside a function\\n# Global variables are available anywhere in the file\\nx = \"global\"\\n\\ndef myfunc():\\n  print(\"x is  \" + x)\\n\\nmyfunc()',\n",
       " '_i28': '# Data types in Python\\n\\n#   Text Type:  str\\n#   Numeric Types:  int, float, complex\\n#   Sequence Types:  list, tuple, range\\n#   Mapping Type:   dict\\n#   Set Types:  set, frozenset\\n#   Boolean Type: bool\\n#   Binary Types:  bytes, bytearray, memoryview',\n",
       " '_i29': 'x = [\"apple\", \"banana\", \"jackfruit\"]  #list\\nx = (\"apple\", \"banana\", \"jackfruit\")  #tuple  , cannot be modified\\nx = range(0,6)  #   list of numbers from 0 to 5\\nx = {\"name\" : \"John\", \"age\" : 36}    #Dictionary \\nx = {\"apple\", \"banana\", \"jackfruit\"}  # Set \\nx = frozenset({\"apple\", \"banana\", \"jackfruit\"}) #frozenset , cannot be modified\\nx = True     #Boolean\\nx = b\"Hello\"  #bytes\\nx = bytearray(5)  #bytearray\\nx = memoryview(bytes(5)) #memoryview',\n",
       " '_i30': 'l1 = [1,2]\\nl2 = [2,3,4]\\nprint(l1 in l2)',\n",
       " 'l1': [2, 3],\n",
       " 'l2': [2, 3, 4],\n",
       " '_i31': 'l1 = [2,3]\\nl2 = [2,3,4]\\nprint(l1 in l2)',\n",
       " '_i32': '# defining strings in Python\\n# all of the following are equivalent\\nmy_string = \\'Hello\\'\\nprint(my_string)\\n\\nmy_string = \"Hello\"\\nprint(my_string)\\n\\nmy_string = \\'\\'\\'Hello\\'\\'\\'\\nprint(my_string)\\n\\n# triple quotes string can extend multiple lines\\nmy_string = \"\"\"Hello, welcome to\\n           the world of Python\"\"\"\\nprint(my_string)',\n",
       " 'my_string': 'Hello, welcome to\\n           the world of Python',\n",
       " '_i33': \"# Python String Operations\\nstr1 = 'Hello'\\nstr2 ='World!'\\n\\n# using +\\nprint('str1 + str2 = ', str1 + str2)\\n\\n# using *\\nprint('str1 * 3 =', str1 * 3)\",\n",
       " 'str1': 'Hello',\n",
       " 'str2': 'World!',\n",
       " '_i34': \"# Iterating through a string\\ncount = 0\\nfor letter in 'Hello World':\\n    if(letter == 'l'):\\n        count += 1\\nprint(count,'letters found')\",\n",
       " 'count': 3,\n",
       " 'letter': 'd',\n",
       " '_i35': \"str = 'cold'\\n\\n# enumerate()\\nlist_enumerate = list(enumerate(str))\\nprint('list(enumerate(str) = ', list_enumerate)\\n\\n#character count\\nprint('len(str) = ', len(str))\",\n",
       " 'list_enumerate': [(0, 'c'), (1, 'o'), (2, 'l'), (3, 'd')],\n",
       " '_i36': '# Python string format() method\\n\\n# default(implicit) order\\ndefault_order = \"{}, {} and {}\".format(\\'John\\',\\'Bill\\',\\'Sean\\')\\nprint(\\'\\\\n--- Default Order ---\\')\\nprint(default_order)\\n\\n# order using positional argument\\npositional_order = \"{1}, {0} and {2}\".format(\\'John\\',\\'Bill\\',\\'Sean\\')\\nprint(\\'\\\\n--- Positional Order ---\\')\\nprint(positional_order)\\n\\n# order using keyword argument\\nkeyword_order = \"{s}, {b} and {j}\".format(j=\\'John\\',b=\\'Bill\\',s=\\'Sean\\')\\nprint(\\'\\\\n--- Keyword Order ---\\')\\nprint(keyword_order)',\n",
       " 'default_order': 'John, Bill and Sean',\n",
       " 'positional_order': 'Bill, John and Sean',\n",
       " 'keyword_order': 'Sean, Bill and John',\n",
       " '_i37': '>>> \"PrOgRaMiZ\".lower()\\n\\'programiz\\'\\n>>> \"PrOgRaMiZ\".upper()\\n\\'PROGRAMIZ\\'\\n>>> \"This will split all words into a list\".split()\\n[\\'This\\', \\'will\\', \\'split\\', \\'all\\', \\'words\\', \\'into\\', \\'a\\', \\'list\\']\\n>>> \\' \\'.join([\\'This\\', \\'will\\', \\'join\\', \\'all\\', \\'words\\', \\'into\\', \\'a\\', \\'string\\'])\\n\\'This will join all words into a string\\'\\n>>> \\'Happy New Year\\'.find(\\'ew\\')\\n7\\n>>> \\'Happy New Year\\'.replace(\\'Happy\\',\\'Brilliant\\')\\n\\'Brilliant New Year\\'',\n",
       " '_37': 'Brilliant New Year',\n",
       " '_i38': '# For loop example\\n\\nfor i in range(0,6):\\n    print(i)',\n",
       " 'i': 15,\n",
       " '_i39': '#for loop example 2\\nfor i in range(0,6,2):\\n    print(2)',\n",
       " '_i40': 'i=0\\n\\nwhile i<5:\\n    print(i)\\n    i++',\n",
       " '_i41': 'i=0\\n\\nwhile i<5:\\n    print(i)\\n    i+=1',\n",
       " '_i42': \"print('hello world')\",\n",
       " '_i43': 'a=3\\nb=4\\na*b',\n",
       " 'a': (1, 2),\n",
       " 'b': [3, 4],\n",
       " '_43': 12,\n",
       " '_i44': 'a=3\\nb=4\\nprint(a*b)',\n",
       " '_i45': 'a=3\\nb=4\\na*b',\n",
       " '_45': 12,\n",
       " '_i46': '!python --version',\n",
       " '_i47': '!python --version',\n",
       " '_i48': '!hostname',\n",
       " '_i49': '# Atlast one blank space should be there to start a separate block of code\\n#\\n#\\nif 5 > 2:\\n print(\"Five is greater than two!\") \\nif 5 > 2:\\n        print(\"Five is greater than two!\") ',\n",
       " '_i50': '#keep a watch on indentation. Blocks are indented by blank space or tab \\nif 5 > 2:\\n   print(\"Five is greater than two!\")',\n",
       " '_i51': '#keep a watch on indentation. Blocks are indented by blank space or tab \\nif 5 > 2:\\n   print(\"Five is greater than two!\")',\n",
       " '_i52': '# Atlast one blank space should be there to start a separate block of code\\n#\\n#\\nif 5 > 2:\\n print(\"Five is greater than two!\") \\nif 5 > 2:\\n        print(\"Five is greater than two!\") ',\n",
       " '_i53': '# Atlast one blank space should be there to start a separate block of code\\n#\\n#\\nif 5 > 2:\\n print(\"Five is greater than two!\") \\nif 5 > 2:\\n        print(\"Five is greater than two!\") \\n           print(\\'error\\')',\n",
       " '_i54': '# Atlast one blank space should be there to start a separate block of code\\n#\\n#\\nif 5 > 2:\\n print(\"Five is greater than two!\") \\nif 5 > 2:\\n        print(\"Five is greater than two!\") \\n        print(\\'error\\')',\n",
       " '_i55': '# Atlast one blank space should be there to start a separate block of code\\n#\\n#\\nif 5 > 2:\\n print(\"Five is greater than two!\") \\nif 5 > 2:\\n        print(\"Five is greater than two!\") \\n          print(\\'error\\')',\n",
       " '_i56': 'number = 10\\nfloatNumber = -1.05\\ncity = \"Chennai\"\\nprint(\"number =\" , number)\\nprint(\"floatNumber =\" , floatNumber)\\nprint(\"city = \", city)',\n",
       " '_i57': 'print(\"type of number =\" , type(number))\\nprint(\"type of floatNumber =\" , type(floatNumber))\\nprint(\"type of city = \",  type(city))',\n",
       " '_i58': 'x=None\\nprint(type(x))\\n\\nprint(x is None)',\n",
       " '_i59': 'x=None\\n#print(type(x))\\n\\nprint(x is None)',\n",
       " '_i60': 'x=None\\n#print(type(x))\\n\\nprint(x is not None)',\n",
       " '_i61': \"#Type Casting\\nChanging from one type to another\\nprint(str(3) + '1')\\nprint(int('1') + 2)\\nprint(float('1.0'))\",\n",
       " '_i62': \"#Type Casting\\n#Changing from one type to another\\nprint(str(3) + '1')\\nprint(int('1') + 2)\\nprint(float('1.0'))\",\n",
       " '_i63': \"#Type Casting\\n#Changing from one type to another\\nprint(str(3))\\nprint(int('1') + 2)\\nprint(float('1.0'))\",\n",
       " '_i64': \"#Type Casting\\n#Changing from one type to another\\n#print(str(3))\\n#print(int('1') + 2)\\n#print(float('1.0'))\\nprint(str)\",\n",
       " '_i65': \"#Type Casting\\n#Changing from one type to another\\n#print(str(3))\\n#print(int('1') + 2)\\n#print(float('1.0'))\\ndel str\",\n",
       " '_i66': \"#Type Casting\\n#Changing from one type to another\\n#print(str(3))\\n#print(int('1') + 2)\\n#print(float('1.0'))\\n#del str\\n\\nprint(str(3))\",\n",
       " '_i67': \"#Type Casting\\n#Changing from one type to another\\nprint(str(3))\\nprint(int('1') + 2)\\nprint(float('1.0'))\\n#del str\\n\\nprint(str(3))\",\n",
       " '_i68': '# assigning multiple values\\n\\nv1, v2, v3 = 10, 20, 30\\nprint(v1)\\nprint(v2)\\nprint(v3)',\n",
       " '_i69': '# extracting each value in a list\\nfruits = [\"apple\", \"banana\", \"jackfruit\"]\\nx, y,z = fruits\\nprint(x)\\nprint(y)\\nprint(z)',\n",
       " '_i70': '# Use of global variable\\n# \\n# Local variables are available inside a function\\n# Global variables are available anywhere in the file\\nx = \"global\"\\n\\ndef myfunc(n1,n2):\\n  print(\"x is  \" + x)\\n\\nmyfunc(1,1)',\n",
       " '_i71': '# Use of global variable\\n# \\n# Local variables are available inside a function\\n# Global variables are available anywhere in the file\\n#x = \"global\"\\n\\ndef myfunc(n1,n2):\\n  print(\"x is  \" + x)\\n\\nmyfunc(1,1)',\n",
       " '_i72': '# Use of global variable\\n# \\n# Local variables are available inside a function\\n# Global variables are available anywhere in the file\\n#x = \"global\"\\n\\ndef myfunc(n1,n2):\\n  print(\"x is  \" + x1233)\\n\\nmyfunc(1,1)',\n",
       " '_i73': 'x = \"Hello World\"   #str \\nx = 10        # int\\nx = 20.5      # float\\nx = -87.7e100 # float exponential form\\nx  = 1j      # complex\\n\\n\\nprint(2e2)',\n",
       " '_i74': '# For loop example\\n\\nfor i in range(0,6):\\n    print(i)',\n",
       " '_i75': '# For loop example\\n\\nvar = range(0,6)\\nprint(var)\\nfor i in range(0,6):\\n    print(i)',\n",
       " 'var': range(0, 6),\n",
       " '_i76': '# For loop example\\n\\nvar = range(0,6)\\nprint(list(var))\\nfor i in range(0,6):\\n    print(i)',\n",
       " '_i77': \"# For loop example\\n'''var = range(0,6)\\nprint(list(var))\\nfor i in range(0,6):\\n    print(i)\\n'''    \\n# Suppose we want to sum the multiples of 5 from 1 to 100 both inclusive\\n\\ntotal=0 \\nvalues = range(0,105, 5)\\nprint(values)\",\n",
       " 'total': 1050,\n",
       " 'values': range(0, 105, 5),\n",
       " '_i78': \"# For loop example\\n'''var = range(0,6)\\nprint(list(var))\\nfor i in range(0,6):\\n    print(i)\\n'''    \\n# Suppose we want to sum the multiples of 5 from 1 to 100 both inclusive\\n\\ntotal=0 \\nvalues = range(0,105, 5)\\nprint(list(values))\",\n",
       " '_i79': \"# For loop example\\n'''var = range(0,6)\\nprint(list(var))\\nfor i in range(0,6):\\n    print(i)\\n'''    \\n# Suppose we want to sum the multiples of 5 from 1 to 100 both inclusive\\n\\ntotal=0 \\nvalues = range(0,105, 5)\\nprint(list(values))\\n\\nfor i in values:\\n    total=total + i\\nprint(total)\",\n",
       " '_i80': '# While loop\\nnumber=0\\n\\nwhile number <105:\\n    print(number)\\n    total = total + number\\n    number+=5\\nprint(total)    ',\n",
       " '_i81': \"# While loop\\nnumber=0\\n\\nwhile number <105:\\n    print(number)\\n    total = total + number\\n    number+=5\\nprint('total= ',total)    \",\n",
       " '_i82': 'var1=range(0,105,5)\\nsum(var1)',\n",
       " '_82': 1050,\n",
       " '_i83': \"# While loop\\nnumber=0\\ntotal=0\\nwhile number <105:\\n    print(number)\\n    total = total + number\\n    number+=5\\nprint('total= ',total)    \",\n",
       " '_i84': 'var1=range(0,105,5)\\nsum(var1)',\n",
       " '_84': 1050,\n",
       " '_i85': 'help(sum)',\n",
       " '_i86': 'help(range)',\n",
       " '_i87': \"a = 3\\nb = 2\\n\\nif (a > b ):\\n    print('a is greater')\",\n",
       " '_i88': \"a = 3\\nb = 2\\n\\nif (a > b ):\\n    print('a is greater')\\nelse:\\n    print('b is greater')\",\n",
       " '_i89': \"a = 3\\nb = 2\\nc = 5\\n\\nif (a > b ):\\n    if (a > c):\\n        print('a is greater')\\n    else:\\n        print('c is greater')\\nelif (b > c):\\n    print('b is greater')\\nelse:\\n    print('c is greater')\",\n",
       " 'c': 5,\n",
       " '_i90': \"a = 3\\nb = 7\\nc = 5\\n\\nif (a > b ):\\n    if (a > c):\\n        print('a is greater')\\n    else:\\n        print('c is greater')\\nelif (b > c):\\n    print('b is greater')\\nelse:\\n    print('c is greater')\",\n",
       " '_i91': \"a = 10\\nb = 7\\nc = 5\\n\\nif (a > b ):\\n    if (a > c):\\n        print('a is greater')\\n    else:\\n        print('c is greater')\\nelif (b > c):\\n    print('b is greater')\\nelse:\\n    print('c is greater')\",\n",
       " '_i92': \"# Python String Operations\\nstr1 = 'Hello'\\nstr2 ='World!'\\n\\n# using +\\nprint('str1 + str2 = ', str1 + str2)\\n\\n# using *\\nprint('str1 * 3 =', str1 * 3)\\n\\nprint(str1[0:3])\",\n",
       " '_i93': \"print('hello' + 'world')\",\n",
       " '_i94': \"print('hello' * 3)\",\n",
       " '_i95': \"print('hello'[0:2])\",\n",
       " '_i96': \"print('hello'[-2:])\",\n",
       " '_i97': \"# Iterating through a string\\ncount = 0\\nfor letter in 'Hello World':\\n    if(letter == 'l'):\\n        count += 1\\nprint(count,'letters found')\\n\\n\\na=[11,12,13,14,15]\\nfor i in a:\\n    print(i)\",\n",
       " '_i98': \"# Iterating through a string\\ncount = 0\\nfor letter in 'Hello World':\\n    if(letter == 'l'):\\n        count += 1\\n#print(count,'letters found')\\n\\n\\na=[11,12,13,14,15]\\nfor i in a:\\n    print(i)\",\n",
       " '_i99': \"# Iterating through a string\\ncount = 0\\nfor letter in 'Hello World':\\n    if(letter == 'l'):\\n        count += 1\\n#print(count,'letters found')\\n\\n\\na=[11,12,13,14,15]\\nfor i in a:\\n    pass\\n    #print(i)\\na[0:3]\",\n",
       " '_99': [11, 12, 13],\n",
       " '_i100': \"# Iterating through a string\\ncount = 0\\nfor letter in 'Hello World':\\n    if(letter == 'l'):\\n        count += 1\\n#print(count,'letters found')\\n\\n\\na=[11,12,13,14,15]\\nfor i in a:\\n    pass\\n    #print(i)\\na[-3:]\",\n",
       " '_100': [13, 14, 15],\n",
       " '_i101': \"token = 'cold'\\n\\n# enumerate()\\nlist_enumerate = list(enumerate(token))\\nprint('list(enumerate(str) = ', list_enumerate)\\n\\n#character count\\nprint('len(str) = ', len(str))\",\n",
       " 'token': 'cold',\n",
       " '_i102': \"token = 'cold'\\n\\n# enumerate()\\nlist_enumerate = list(enumerate(token))\\nprint('list(enumerate(str) = ', list_enumerate)\\n\\n#character count\\nprint('len(str) = ', len(token))\",\n",
       " '_i103': \"token = 'cold'\\n\\n# enumerate()\\nlist_enumerate = list(enumerate(token))\\nprint('list(enumerate(str) = ', list_enumerate)\\n\\n#character count\\nprint('len(str) = ', len(token))\\nprint(token[3])\",\n",
       " '_i104': '2 / 3',\n",
       " '_104': 0.6666666666666666,\n",
       " '_i105': '4 / 3',\n",
       " '_105': 1.3333333333333333,\n",
       " '_i106': '4 // 3',\n",
       " '_106': 1,\n",
       " '_i107': '10 %  3',\n",
       " '_107': 1,\n",
       " '_i108': '11 %  3',\n",
       " '_108': 2,\n",
       " '_i109': '12 /  3',\n",
       " '_109': 4.0,\n",
       " '_i110': '12 **  2',\n",
       " '_110': 144,\n",
       " '_i111': '12 **  0.5',\n",
       " '_111': 3.4641016151377544,\n",
       " '_i112': '12 **  (1/3)',\n",
       " '_112': 2.2894284851066637,\n",
       " '_i113': 'import math\\nmath.sqrt(16)',\n",
       " 'math': <module 'math' from '/home/krishna/conda2019v7/lib/python3.7/lib-dynload/math.cpython-37m-x86_64-linux-gnu.so'>,\n",
       " '_113': 4.0,\n",
       " '_i114': 'import math\\nmath.pow(12,2)',\n",
       " '_114': 144.0,\n",
       " '_i115': 'import math\\nmath.floor(12.6)',\n",
       " '_115': 12,\n",
       " '_i116': 'import math\\nmath.ceil(12.1)',\n",
       " '_116': 13,\n",
       " '_i117': 'list1 = [1 ,2 , 3, 4,5 ]\\nlist1=[0:5:2]',\n",
       " '_i118': 'list1 = [1 ,2 , 3, 4,5 ]\\nlist1[0:5:2]',\n",
       " 'list1': ['This is a sample file for word count\\n',\n",
       "  '\\n',\n",
       "  'word is repeated 2 times\\n',\n",
       "  '\\n',\n",
       "  'Hello World\\n'],\n",
       " '_118': [1, 3, 5],\n",
       " '_i119': 'list1 = [1 ,2 , 3, 4,5 ]\\nlist1[0:5:2]\\nlist1[-1:]',\n",
       " '_119': [5],\n",
       " '_i120': 'list1 = [1 ,2 , 3, 4,5 ]\\nlist1[0:5:2]\\nlist1[-2:]',\n",
       " '_120': [4, 5],\n",
       " '_i121': 'list1 = [1 ,2 , 3, 4,5 ]\\nlist1[0:5:2]\\nlist1[::-1]',\n",
       " '_121': [5, 4, 3, 2, 1],\n",
       " '_i122': 'list1 = [1 ,2 , 3, 4,5 ]\\nlist1[0:5:2]# start , stop, step\\nlist1[::-1]# reverse \\nlist1[-2:]',\n",
       " '_122': [4, 5],\n",
       " '_i123': 'list1 = [1 ,2 , 3, 4,5 ]\\nprint(list1[0:5:2])# start , stop, step\\nprint(list1[::-1])# reverse \\nprint(list1[-2:])',\n",
       " '_i124': 'list1 = range(0,101)',\n",
       " '_i125': 'list1 = range(0,101)\\nprint(lis1)',\n",
       " '_i126': 'list1 = range(0,101)\\nprint(list1)',\n",
       " '_i127': 'list1 = list(range(0,101))\\nprint(list1)',\n",
       " '_i128': 'list1 = list(range(0,101))\\nprint(list1)\\nans = [ x for x in list1 if x %10 == 0]\\nprint(ans)',\n",
       " 'ans': [0, 10, 20, 30, 40, 50, 60, 70, 80, 90, 100],\n",
       " '_i129': 'list1 = list(range(0,101))\\nprint(list1)\\nans = [for x in list1 if x % 10 == 0]\\nprint(ans)',\n",
       " '_i130': 'list1 = list(range(0,101))\\nprint(list1)\\nans = [x in list1 if x % 10 == 0]\\nprint(ans)',\n",
       " '_i131': 'list1 = list(range(0,101))\\nprint(list1)\\nans = [x in list1 if x%10 = 10]\\nprint(ans)',\n",
       " '_i132': 'list1 = list(range(0,101))\\nprint(list1)\\nans = [x in list1 if x%10 == 10]\\nprint(ans)',\n",
       " '_i133': 'list1 = list(range(0,101))\\nprint(list1)\\n#ans = [x in list1 if x%10 == 10]\\n#print(ans)',\n",
       " '_i134': 'list1 = list(range(0,101))\\nprint(list1)\\nans = [x in list1 if x%10 == 10]\\n#print(ans)',\n",
       " '_i135': 'list1 = list(range(0,101))\\nprint(list1)\\nans = [x if x%10 == 10]\\n#print(ans)',\n",
       " '_i136': 'list1 = list(range(0,101))\\nprint(list1)\\n#[x for x in fruits if \"a\" in x]\\nans = [x fox in list1 if (x %10) == 0]\\n#print(ans)',\n",
       " '_i137': 'list1 = list(range(0,101))\\nprint(list1)\\n#[x for x in fruits if \"a\" in x]\\nans = [x for in list1 if (x %10) == 0]\\n#print(ans)',\n",
       " '_i138': 'list1 = list(range(0,101))\\nprint(list1)\\n#[x for x in fruits if \"a\" in x]\\nans = [x for x in list1 if (x %10) == 0]\\n#print(ans)',\n",
       " '_i139': 'list1 = list(range(0,101))\\n#print(list1)\\n#[x for x in fruits if \"a\" in x]\\nans = [x for x in list1 if (x %10) == 0]\\nprint(ans)\\n#print(ans)',\n",
       " '_i140': 'list1 = list(range(0,101))\\nans = [x for x in list1 if (x %10) == 0]\\nprint(ans)',\n",
       " '_i141': 'a = [1,2]\\nb = [3,4]\\na+b',\n",
       " '_141': [1, 2, 3, 4],\n",
       " '_i142': 'a = [1,2]\\nb = [3,4]\\na.append(b)',\n",
       " '_i143': 'a = [1,2]\\nb = [3,4]\\nprint(a+b)\\na.append(b)\\nprint(a)',\n",
       " '_i144': 'a = [1,2]\\nb = [3,4]\\nprint(a+b)\\na.append(b)\\nprint(a)\\n\\nprint[1,2,3,4,5].append(6))',\n",
       " '_i145': 'a = [1,2]\\nb = [3,4]\\n#print(a+b)\\n#a.append(b)\\n#print(a)\\n\\nprint([1,2,3,4,5].append(6))',\n",
       " '_i146': 'a = [1,2]\\nb = [3,4]\\n#print(a+b)\\n#a.append(b)\\n#print(a)\\n\\nprint(r=[1,2,3,4,5].append(6))',\n",
       " '_i147': 'a = [1,2]\\nb = [3,4]\\n#print(a+b)\\n#a.append(b)\\n#print(a)\\n\\nr=[1,2,3,4,5].append(6)\\nprint(r)',\n",
       " 'r': [1, 2, 3, 4, 5, 6],\n",
       " '_i148': 'a = [1,2]\\nb = [3,4]\\n#print(a+b)\\n#a.append(b)\\n#print(a)\\n\\nr=[1,2,3,4,5]\\nr.append(6)\\nprint(r)',\n",
       " '_i149': 'a = [1,2]\\nb = [3,4]\\n#a.append(b)\\n#print(a)\\n\\nr=[1,2,3,4,5]\\nr.append(6)\\nprint(r)\\nprint(a+b)',\n",
       " '_i150': 's1=set({1,2,3,4,5})\\ns1={1,2,3,4,5}',\n",
       " 's1': {1, 2, 3, 4, 5},\n",
       " '_i151': 's1=set({1,2,3,4,5})\\ns1={1,2,3,4,5}\\ns2 = {4,5}\\ns1.difference(s2)',\n",
       " 's2': {4, 5, 6},\n",
       " '_151': {1, 2, 3},\n",
       " '_i152': 's1=set({1,2,3,4,5})\\ns1={1,2,3,4,5}\\ns2 = {4,5,6}\\ns1.union(s2)',\n",
       " '_152': {1, 2, 3, 4, 5, 6},\n",
       " '_i153': 's1=set({1,2,3,4,5})\\ns1={1,2,3,4,5}\\ns2 = {4,5,6}\\ns1.intersection(s2)',\n",
       " '_153': {4, 5},\n",
       " '_i154': 's1=set({1,2,3,4,5})\\ns1={1,2,3,4,5}\\ns2 = {4,5,6}\\ns1.intersection(s2)\\n\\na=(1,2)\\nprint(a)',\n",
       " '_i155': 's1=set({1,2,3,4,5})\\ns1={1,2,3,4,5}\\ns2 = {4,5,6}\\ns1.intersection(s2)\\n\\na=(1,2)\\nprint(a[0])',\n",
       " '_i156': 's1=set({1,2,3,4,5})\\ns1={1,2,3,4,5}\\ns2 = {4,5,6}\\ns1.intersection(s2)\\n\\na=(1,2)\\nprint(a[0])',\n",
       " '_i157': 's1=set({1,2,3,4,5})\\ns1={1,2,3,4,5}\\ns2 = {4,5,6}\\ns1.intersection(s2)\\n\\na=(1,2)\\nprint(a[0])\\nprint(a[1])',\n",
       " '_i158': 's1=set({1,2,3,4,5})\\ns1={1,2,3,4,5}\\ns2 = {4,5,6}\\ns1.intersection(s2)\\n\\na=(1,2)\\nprint(a[0])\\nprint(a[1])',\n",
       " '_i159': 's1=set({1,2,3,4,5})\\ns1={1,2,3,4,5}\\ns2 = {4,5,6}\\ns1.intersection(s2)\\n\\na=(1,2)\\nprint(a[0])\\nprint(a[1])',\n",
       " '_i160': 's1=set({1,2,3,4,5})\\ns1={1,2,3,4,5}\\ns2 = {4,5,6}\\ns1.intersection(s2)\\n\\na=(1,2)\\nprint(a[0])\\nprint(a[1])\\nfirst,second = a\\nprint(first)\\nprint(second)',\n",
       " 'first': 1,\n",
       " 'second': 2,\n",
       " '_i161': 's1=set({1,2,3,4,5})\\ns1={1,2,3,4,5}\\ns2 = {4,5,6}\\ns1.intersection(s2)\\n\\na=(1,2)\\n#print(a[0])\\n#print(a[1])\\nfirst,second = a\\nprint(first)\\nprint(second)',\n",
       " '_i162': 's={\"k1\" : \"v1\" ,\\n    \"k2\" : 2,\\n    3:  None}\\nprint(s.keys())',\n",
       " 's': {'k1': 'v1', 'k2': 2, 3: None},\n",
       " '_i163': 's={\"k1\" : \"v1\" ,\\n    \"k2\" : 2,\\n    3:  None}\\nprint(s.values())',\n",
       " '_i164': 'sMap={\"k1\" : \"v1\" ,\\n    \"k2\" : 2,\\n    3:  None}\\nprint(sMap.values())',\n",
       " 'sMap': {'k1': 'v1', 'k2': 2, 3: None, 'k3': 100},\n",
       " '_i165': 'for key,value in sMap:\\n    print(key, \" has value \" , value)',\n",
       " 'key': 3,\n",
       " 'value': None,\n",
       " '_i166': 'for key,value in sMap.items():\\n    print(key, \" has value \" , value)',\n",
       " '_i167': 'sMap.items()',\n",
       " '_167': dict_items([('k1', 'v1'), ('k2', 2), (3, None), ('k3', 100)]),\n",
       " '_i168': \"sMap['k3'] = 100\",\n",
       " '_i169': \"sMap['k3']\",\n",
       " '_169': 100,\n",
       " '_i170': \"'k3' in sMap\",\n",
       " '_170': True,\n",
       " '_i171': \"'k1000000' in sMap\",\n",
       " '_171': False,\n",
       " '_i172': 'fh = open(\"/home/krishna/pythontraining/file1.txt\",\"r\")',\n",
       " 'fh': <_io.TextIOWrapper name='/home/krishna/pythontraining/file1.txt' mode='r' encoding='UTF-8'>,\n",
       " '_i173': 'fh.readlines()',\n",
       " '_173': ['This is a sample file for word count\\n',\n",
       "  '\\n',\n",
       "  'word is repeated 2 times\\n',\n",
       "  '\\n',\n",
       "  'Hello World\\n'],\n",
       " '_i174': 'list1=fh.readlines()',\n",
       " '_i175': 'wordMap={}\\n\\nfor eachLine in list1:\\n    print(eachLine)',\n",
       " 'wordMap': {'This': 1,\n",
       "  'is': 2,\n",
       "  'a': 1,\n",
       "  'sample': 1,\n",
       "  'file': 1,\n",
       "  'for': 1,\n",
       "  'word': 2,\n",
       "  'count': 1,\n",
       "  'repeated': 1,\n",
       "  '2': 1,\n",
       "  'times': 1,\n",
       "  'Hello': 1,\n",
       "  'World': 1},\n",
       " '_i176': 'wordMap={}\\n\\nfor eachLine in list1:\\n    print(eachLine)',\n",
       " '_i177': 'list1=fh.readlines()',\n",
       " '_i178': 'wordMap={}\\n\\nfor eachLine in list1:\\n    print(eachLine)',\n",
       " '_i179': 'fh = open(\"/home/krishna/pythontraining/file1.txt\",\"r\")',\n",
       " '_i180': 'list1=fh.readlines()',\n",
       " '_i181': 'list1=fh.readlines()\\nprint(list1)',\n",
       " '_i182': 'fh = open(\"/home/krishna/pythontraining/file1.txt\",\"r\")\\nlist1=fh.readlines()\\nprint(list1)\\nfh.close()',\n",
       " '_i183': 'wordMap={}\\n\\nfor eachLine in list1:\\n    print(eachLine)',\n",
       " 'eachLine': 'Hello World\\n',\n",
       " '_i184': 'wordMap={}\\n\\nfor eachLine in list1:\\n    print(eachLine.split())',\n",
       " '_i185': 'wordMap={}\\n\\nfor eachLine in list1:\\n    words = eachLine.split()\\n    \\n    for eachWord in words:\\n        print(eachWord)',\n",
       " 'words': ['Hello', 'World'],\n",
       " 'eachWord': 'World',\n",
       " '_i186': 'wordMap={}\\n\\nfor eachLine in list1:\\n    words = eachLine.split()\\n    \\n    for eachWord in words:\\n        print(eachWord)\\n        if eachWord in wordMap:\\n            wordMap[eachWord] = wordMap[eachWord] + 1\\n        else:\\n            wordMap[eachWord] = 1\\n\\nprint(wordMap)\\n    ',\n",
       " '_i187': 'wordMap={}\\n\\nfor eachLine in list1:\\n    words = eachLine.split()\\n    \\n    for eachWord in words:\\n        #print(eachWord)\\n        if eachWord in wordMap:\\n            wordMap[eachWord] = wordMap[eachWord] + 1\\n        else:\\n            wordMap[eachWord] = 1\\n\\nprint(wordMap)\\n    ',\n",
       " '_i188': 'vars()'}"
      ]
     },
     "execution_count": 188,
     "metadata": {},
     "output_type": "execute_result"
    }
   ],
   "source": [
    "vars()"
   ]
  },
  {
   "cell_type": "code",
   "execution_count": 190,
   "metadata": {},
   "outputs": [
    {
     "name": "stdout",
     "output_type": "stream",
     "text": [
      "{'This': 1, 'is': 2, 'a': 1, 'sample': 1, 'file': 1, 'for': 1, 'word': 2, 'count': 1, 'repeated': 1, '2': 1, 'times': 1, 'Hello': 1, 'World': 1}\n"
     ]
    }
   ],
   "source": [
    "wordMap={}\n",
    "\n",
    "#print(wordMap)\n",
    "with open(\"/home/krishna/pythontraining/file1.txt\",\"r\") as fh:\n",
    "    list1=fh.readlines()\n",
    "    \n",
    "    for eachLine in list1:\n",
    "        words = eachLine.split()\n",
    "        for eachWord in words:\n",
    "            wordMap[eachWord] = wordMap.get(eachWord,0) + 1\n",
    "print(wordMap)"
   ]
  },
  {
   "cell_type": "code",
   "execution_count": 192,
   "metadata": {},
   "outputs": [
    {
     "ename": "KeyError",
     "evalue": "'k10000'",
     "output_type": "error",
     "traceback": [
      "\u001b[0;31m---------------------------------------------------------------------------\u001b[0m",
      "\u001b[0;31mKeyError\u001b[0m                                  Traceback (most recent call last)",
      "\u001b[0;32m<ipython-input-192-e7f0d88918a0>\u001b[0m in \u001b[0;36m<module>\u001b[0;34m\u001b[0m\n\u001b[0;32m----> 1\u001b[0;31m \u001b[0mwordMap\u001b[0m\u001b[0;34m[\u001b[0m\u001b[0;34m'k10000'\u001b[0m\u001b[0;34m]\u001b[0m\u001b[0;34m\u001b[0m\u001b[0;34m\u001b[0m\u001b[0m\n\u001b[0m",
      "\u001b[0;31mKeyError\u001b[0m: 'k10000'"
     ]
    }
   ],
   "source": [
    "wordMap['k10000'] \n",
    "# you will get error if you access a key that does not exist"
   ]
  }
 ],
 "metadata": {
  "kernelspec": {
   "display_name": "Python 3",
   "language": "python",
   "name": "python3"
  },
  "language_info": {
   "codemirror_mode": {
    "name": "ipython",
    "version": 3
   },
   "file_extension": ".py",
   "mimetype": "text/x-python",
   "name": "python",
   "nbconvert_exporter": "python",
   "pygments_lexer": "ipython3",
   "version": "3.7.3"
  }
 },
 "nbformat": 4,
 "nbformat_minor": 2
}
